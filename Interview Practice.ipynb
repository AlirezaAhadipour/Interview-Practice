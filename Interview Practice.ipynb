{
  "cells": [
    {
      "cell_type": "code",
      "execution_count": 1,
      "id": "27a2122b",
      "metadata": {
        "id": "27a2122b"
      },
      "outputs": [],
      "source": [
        "import numpy as np"
      ]
    },
    {
      "cell_type": "markdown",
      "id": "43dbeaa2",
      "metadata": {
        "id": "43dbeaa2"
      },
      "source": [
        "### Is Unique: \n"
      ]
    },
    {
      "cell_type": "code",
      "execution_count": null,
      "id": "3dfc7840",
      "metadata": {
        "id": "3dfc7840"
      },
      "outputs": [],
      "source": [
        "def uniquee(x):\n",
        "    \n",
        "    x = x.lower()\n",
        "    \n",
        "    chars = []\n",
        "    \n",
        "    for character in x:\n",
        "        if character in chars:\n",
        "            return False\n",
        "        else:\n",
        "            chars.append(character)\n",
        "            \n",
        "    return True"
      ]
    },
    {
      "cell_type": "code",
      "execution_count": null,
      "id": "2bdef710",
      "metadata": {
        "id": "2bdef710",
        "outputId": "850c8710-2247-4908-f023-04994cc46f4a",
        "colab": {
          "base_uri": "https://localhost:8080/"
        }
      },
      "outputs": [
        {
          "output_type": "stream",
          "name": "stdout",
          "text": [
            "False\n"
          ]
        }
      ],
      "source": [
        "x = \"Alexa\"\n",
        "print(uniquee(x))"
      ]
    },
    {
      "cell_type": "markdown",
      "id": "3219d8d4",
      "metadata": {
        "id": "3219d8d4"
      },
      "source": [
        "### Check Permutation: \n"
      ]
    },
    {
      "cell_type": "code",
      "execution_count": null,
      "id": "03aa9f7a",
      "metadata": {
        "id": "03aa9f7a"
      },
      "outputs": [],
      "source": [
        "def permutationn(str1, str2):\n",
        "    if len(str1) != len(str2):\n",
        "        return False\n",
        "    else:\n",
        "        s1, s2 = sorted(str1), sorted(str2)\n",
        "        for i in range(len(str1)):\n",
        "            if s1[i] != s2[i]:\n",
        "                return False\n",
        "        return True"
      ]
    },
    {
      "cell_type": "code",
      "execution_count": null,
      "id": "c08da6f4",
      "metadata": {
        "id": "c08da6f4",
        "outputId": "35a6463f-8112-4271-d14d-dd8bad59b06f",
        "colab": {
          "base_uri": "https://localhost:8080/"
        }
      },
      "outputs": [
        {
          "output_type": "execute_result",
          "data": {
            "text/plain": [
              "True"
            ]
          },
          "metadata": {},
          "execution_count": 5
        }
      ],
      "source": [
        "permutationn('asd', 'sda')"
      ]
    },
    {
      "cell_type": "markdown",
      "id": "93fccd6f",
      "metadata": {
        "id": "93fccd6f"
      },
      "source": [
        "### URLify: \n"
      ]
    },
    {
      "cell_type": "code",
      "execution_count": null,
      "id": "2d6641a3",
      "metadata": {
        "id": "2d6641a3"
      },
      "outputs": [],
      "source": [
        "def urlify(string):\n",
        "    output = ''\n",
        "    for char in string:\n",
        "        if char == ' ':\n",
        "            char = '%20'\n",
        "            output += char\n",
        "        else:\n",
        "            output += char\n",
        "    return output"
      ]
    },
    {
      "cell_type": "code",
      "execution_count": null,
      "id": "b492a6c0",
      "metadata": {
        "id": "b492a6c0",
        "outputId": "416943d9-0263-4e88-97b4-c41e2405d9da",
        "colab": {
          "base_uri": "https://localhost:8080/",
          "height": 35
        }
      },
      "outputs": [
        {
          "output_type": "execute_result",
          "data": {
            "text/plain": [
              "'zx%20c'"
            ],
            "application/vnd.google.colaboratory.intrinsic+json": {
              "type": "string"
            }
          },
          "metadata": {},
          "execution_count": 7
        }
      ],
      "source": [
        "urlify('zx c')"
      ]
    },
    {
      "cell_type": "code",
      "execution_count": null,
      "id": "88431200",
      "metadata": {
        "id": "88431200"
      },
      "outputs": [],
      "source": [
        "def urlify2(string):\n",
        "    return string.replace(' ', '%20')"
      ]
    },
    {
      "cell_type": "code",
      "execution_count": null,
      "id": "7c58945e",
      "metadata": {
        "id": "7c58945e",
        "outputId": "9d972f37-6568-423b-ff20-2e7f4c73db1d",
        "colab": {
          "base_uri": "https://localhost:8080/",
          "height": 35
        }
      },
      "outputs": [
        {
          "output_type": "execute_result",
          "data": {
            "text/plain": [
              "'zx%20c'"
            ],
            "application/vnd.google.colaboratory.intrinsic+json": {
              "type": "string"
            }
          },
          "metadata": {},
          "execution_count": 9
        }
      ],
      "source": [
        "urlify2('zx c')"
      ]
    },
    {
      "cell_type": "markdown",
      "id": "0ad8883d",
      "metadata": {
        "id": "0ad8883d"
      },
      "source": [
        "### One Away: \n",
        "There are three types of edits that can be performed on strings: insert a character, remove a character, or replace a character. Given two strings, write a function to check if they are one edit (or zero edits) away.\n",
        "\n",
        "EXAMPLE\n",
        "pale, pie -> true\n",
        "pales, pale -> true \n",
        "pale, bale -> true \n",
        "pale, bake -> false"
      ]
    },
    {
      "cell_type": "code",
      "execution_count": null,
      "id": "8a37b078",
      "metadata": {
        "id": "8a37b078"
      },
      "outputs": [],
      "source": [
        "def one_away(str1, str2):\n",
        "    if abs(len(str1) - len(str2)) > 1:\n",
        "        return False\n",
        "    elif len(str1) == len(str2):\n",
        "        return char_replaced(str1, str2)\n",
        "    elif len(str1) > len(str2):\n",
        "        return char_removed(str1, str2)\n",
        "    elif len(str1) < len(str2):\n",
        "        return char_insert(str1, str2)        \n",
        "        \n",
        "        \n",
        "def char_replaced(str1, str2):\n",
        "    counter = 0\n",
        "    for i in range(len(str1)):\n",
        "        if str1[i] != str2[i]:\n",
        "            counter += 1\n",
        "    if counter <= 1:\n",
        "        return True\n",
        "    else:\n",
        "        return False\n",
        "\n",
        "    \n",
        "def char_removed(str1, str2):\n",
        "    i = 0\n",
        "    j = 0\n",
        "    if str1[i] == str2[j]:\n",
        "        i = i+1\n",
        "        j = j+1\n",
        "    elif str1[i] != str2[j]:\n",
        "        i += 1\n",
        "        if str1[i] == str2[j]:\n",
        "            i +=1\n",
        "            j +=1\n",
        "        else:\n",
        "            return False\n",
        "    return True\n",
        "\n",
        "    \n",
        "def char_insert(str1, str2):\n",
        "    i = 0\n",
        "    j = 0\n",
        "    if str2[i] == str1[j]:\n",
        "        i = i+1\n",
        "        j = j+1\n",
        "    elif str2[i] != str1[j]:\n",
        "        i += 1\n",
        "        if str2[i] == str1[j]:\n",
        "            i +=1\n",
        "            j +=1\n",
        "        else:\n",
        "            return False\n",
        "    return True"
      ]
    },
    {
      "cell_type": "code",
      "execution_count": null,
      "id": "65f36774",
      "metadata": {
        "id": "65f36774",
        "outputId": "46c4b31d-8fde-4c93-c0ae-5031bfe0ff59",
        "colab": {
          "base_uri": "https://localhost:8080/"
        }
      },
      "outputs": [
        {
          "output_type": "execute_result",
          "data": {
            "text/plain": [
              "True"
            ]
          },
          "metadata": {},
          "execution_count": 11
        }
      ],
      "source": [
        "one_away('alexa', 'alex')"
      ]
    },
    {
      "cell_type": "markdown",
      "id": "a4785479",
      "metadata": {
        "id": "a4785479"
      },
      "source": [
        "### String Compression: \n"
      ]
    },
    {
      "cell_type": "code",
      "execution_count": null,
      "id": "68ef0b50",
      "metadata": {
        "id": "68ef0b50"
      },
      "outputs": [],
      "source": [
        "def str_comp(strng):\n",
        "    strng = strng.lower()\n",
        "    output = strng[0]\n",
        "    counter = 0\n",
        "    for i in range(len(strng)-1):\n",
        "        if strng[i+1] == strng[i]:\n",
        "            i += 1\n",
        "            counter += 1\n",
        "        else:\n",
        "            output = output + str(counter+1)\n",
        "            counter = 0\n",
        "            output = output + strng[i+1]\n",
        "            \n",
        "    if len(output) <= len(strng):\n",
        "        return output\n",
        "    else:\n",
        "        return strng"
      ]
    },
    {
      "cell_type": "code",
      "execution_count": null,
      "id": "d68930f2",
      "metadata": {
        "id": "d68930f2",
        "outputId": "75cdee45-7a31-44bd-eb35-6e4859b9d573",
        "colab": {
          "base_uri": "https://localhost:8080/",
          "height": 35
        }
      },
      "outputs": [
        {
          "output_type": "execute_result",
          "data": {
            "text/plain": [
              "'a3l1e1x'"
            ],
            "application/vnd.google.colaboratory.intrinsic+json": {
              "type": "string"
            }
          },
          "metadata": {},
          "execution_count": 13
        }
      ],
      "source": [
        "str_comp('aaalexxxxx')"
      ]
    },
    {
      "cell_type": "code",
      "execution_count": null,
      "id": "fbe1aa93",
      "metadata": {
        "id": "fbe1aa93"
      },
      "outputs": [],
      "source": [
        "def str_comp2(s):\n",
        "    compressed = ''\n",
        "    counter = 0\n",
        "    memory = s[0]\n",
        "    for char in s:\n",
        "        if char == memory:\n",
        "            counter += 1\n",
        "            \n",
        "        else:\n",
        "            compressed += memory + str(counter)\n",
        "            memory = char\n",
        "            counter = 1\n",
        "    compressed += char + str(counter)\n",
        "    return compressed"
      ]
    },
    {
      "cell_type": "code",
      "execution_count": null,
      "id": "537f9b11",
      "metadata": {
        "id": "537f9b11",
        "outputId": "510fb40d-04c4-421b-d481-c4ba4e5fe1b4",
        "colab": {
          "base_uri": "https://localhost:8080/",
          "height": 35
        }
      },
      "outputs": [
        {
          "output_type": "execute_result",
          "data": {
            "text/plain": [
              "'a3l1e1x5'"
            ],
            "application/vnd.google.colaboratory.intrinsic+json": {
              "type": "string"
            }
          },
          "metadata": {},
          "execution_count": 15
        }
      ],
      "source": [
        "str_comp2('aaalexxxxx')"
      ]
    },
    {
      "cell_type": "code",
      "execution_count": null,
      "id": "c81134d2",
      "metadata": {
        "id": "c81134d2"
      },
      "outputs": [],
      "source": [
        "def compress_string(string):\n",
        "    compressed = []\n",
        "    counter = 0\n",
        "\n",
        "    for i in range(len(string)):  \n",
        "        if i != 0 and string[i] != string[i - 1]:\n",
        "            compressed.append(string[i - 1] + str(counter))\n",
        "            counter = 0\n",
        "        counter += 1\n",
        "\n",
        "    # add last repeated character\n",
        "    if counter:\n",
        "        compressed.append(string[-1] + str(counter))\n",
        "\n",
        "    # returns original string if compressed string isn't smaller\n",
        "    return min(string, \"\".join(compressed), key=len)"
      ]
    },
    {
      "cell_type": "code",
      "execution_count": null,
      "id": "35e40807",
      "metadata": {
        "id": "35e40807",
        "outputId": "8cd66192-e1cb-4704-d42f-aa16357da73c",
        "colab": {
          "base_uri": "https://localhost:8080/",
          "height": 35
        }
      },
      "outputs": [
        {
          "output_type": "execute_result",
          "data": {
            "text/plain": [
              "'a3l1e1x7'"
            ],
            "application/vnd.google.colaboratory.intrinsic+json": {
              "type": "string"
            }
          },
          "metadata": {},
          "execution_count": 17
        }
      ],
      "source": [
        "compress_string('aaalexxxxxxx')"
      ]
    },
    {
      "cell_type": "markdown",
      "id": "67a16b29",
      "metadata": {
        "id": "67a16b29"
      },
      "source": [
        "### String Rotation: \n"
      ]
    },
    {
      "cell_type": "code",
      "execution_count": null,
      "id": "4b65d827",
      "metadata": {
        "id": "4b65d827"
      },
      "outputs": [],
      "source": [
        "def str_rot(s1, s2):\n",
        "    if len(s1) != len(s2):\n",
        "        return False\n",
        "    elif s2 in s1*2:\n",
        "        return True\n",
        "    else:\n",
        "        return False "
      ]
    },
    {
      "cell_type": "code",
      "execution_count": null,
      "id": "81aca940",
      "metadata": {
        "id": "81aca940",
        "outputId": "37f4547a-a611-4423-b3d5-09cb2af90499",
        "colab": {
          "base_uri": "https://localhost:8080/"
        }
      },
      "outputs": [
        {
          "output_type": "execute_result",
          "data": {
            "text/plain": [
              "True"
            ]
          },
          "metadata": {},
          "execution_count": 19
        }
      ],
      "source": [
        "str_rot('zxcvbnm', 'cvbnmzx')"
      ]
    },
    {
      "cell_type": "markdown",
      "id": "8494055b",
      "metadata": {
        "id": "8494055b"
      },
      "source": [
        "### FizzBuzz\n"
      ]
    },
    {
      "cell_type": "code",
      "execution_count": null,
      "id": "24ed3736",
      "metadata": {
        "id": "24ed3736"
      },
      "outputs": [],
      "source": [
        "def fizzbuzz(n):\n",
        "    if n%15 == 0:\n",
        "        print(\"FizzBuzz\")\n",
        "    elif n%3 == 0:\n",
        "        print(\"Fizz\")\n",
        "    elif n%5 == 0:\n",
        "        print(\"Buzz\")\n",
        "    else:\n",
        "        return n"
      ]
    },
    {
      "cell_type": "code",
      "execution_count": null,
      "id": "a2d4f44b",
      "metadata": {
        "id": "a2d4f44b",
        "outputId": "d70ba392-68a6-4468-c7ce-42ac657178bf",
        "colab": {
          "base_uri": "https://localhost:8080/"
        }
      },
      "outputs": [
        {
          "output_type": "stream",
          "name": "stdout",
          "text": [
            "Fizz\n"
          ]
        }
      ],
      "source": [
        "fizzbuzz(-3)"
      ]
    },
    {
      "cell_type": "code",
      "execution_count": null,
      "id": "d713ff4c",
      "metadata": {
        "id": "d713ff4c"
      },
      "outputs": [],
      "source": [
        "def fizz():\n",
        "    for i in range(1,51):\n",
        "        if i % 15 == 0:\n",
        "            print('FizzBuzz')\n",
        "        elif i % 3 == 0:\n",
        "            print('Fizz')\n",
        "        elif i % 5 == 0:\n",
        "            print('Buzz')\n",
        "        print(i)\n",
        "        "
      ]
    },
    {
      "cell_type": "code",
      "execution_count": null,
      "id": "22127d2b",
      "metadata": {
        "id": "22127d2b",
        "outputId": "bd8efd5e-175b-4cb0-a959-c8214fdf9cdb",
        "colab": {
          "base_uri": "https://localhost:8080/"
        }
      },
      "outputs": [
        {
          "output_type": "stream",
          "name": "stdout",
          "text": [
            "1\n",
            "2\n",
            "Fizz\n",
            "3\n",
            "4\n",
            "Buzz\n",
            "5\n",
            "Fizz\n",
            "6\n",
            "7\n",
            "8\n",
            "Fizz\n",
            "9\n",
            "Buzz\n",
            "10\n",
            "11\n",
            "Fizz\n",
            "12\n",
            "13\n",
            "14\n",
            "FizzBuzz\n",
            "15\n",
            "16\n",
            "17\n",
            "Fizz\n",
            "18\n",
            "19\n",
            "Buzz\n",
            "20\n",
            "Fizz\n",
            "21\n",
            "22\n",
            "23\n",
            "Fizz\n",
            "24\n",
            "Buzz\n",
            "25\n",
            "26\n",
            "Fizz\n",
            "27\n",
            "28\n",
            "29\n",
            "FizzBuzz\n",
            "30\n",
            "31\n",
            "32\n",
            "Fizz\n",
            "33\n",
            "34\n",
            "Buzz\n",
            "35\n",
            "Fizz\n",
            "36\n",
            "37\n",
            "38\n",
            "Fizz\n",
            "39\n",
            "Buzz\n",
            "40\n",
            "41\n",
            "Fizz\n",
            "42\n",
            "43\n",
            "44\n",
            "FizzBuzz\n",
            "45\n",
            "46\n",
            "47\n",
            "Fizz\n",
            "48\n",
            "49\n",
            "Buzz\n",
            "50\n"
          ]
        }
      ],
      "source": [
        "fizz()"
      ]
    },
    {
      "cell_type": "markdown",
      "id": "e03327a4",
      "metadata": {
        "id": "e03327a4"
      },
      "source": [
        "### Reverse an Integer\n"
      ]
    },
    {
      "cell_type": "code",
      "execution_count": null,
      "id": "1cd02bc3",
      "metadata": {
        "id": "1cd02bc3"
      },
      "outputs": [],
      "source": [
        "def rev(n):\n",
        "    if n not in range(-2**31, 2**31):\n",
        "        return 0\n",
        "    if n < 0:\n",
        "        sign = -1\n",
        "    else:\n",
        "        sign = 1\n",
        "    n = str(abs(n))\n",
        "    rev = n[::-1]\n",
        "    return sign * int(rev)"
      ]
    },
    {
      "cell_type": "code",
      "execution_count": null,
      "id": "02da94b8",
      "metadata": {
        "id": "02da94b8",
        "outputId": "9b971ec0-b388-48c9-ea2e-01ef80eb3733",
        "colab": {
          "base_uri": "https://localhost:8080/"
        }
      },
      "outputs": [
        {
          "output_type": "execute_result",
          "data": {
            "text/plain": [
              "-3201"
            ]
          },
          "metadata": {},
          "execution_count": 25
        }
      ],
      "source": [
        "rev(-10230)"
      ]
    },
    {
      "cell_type": "code",
      "execution_count": null,
      "id": "de6d25f0",
      "metadata": {
        "id": "de6d25f0"
      },
      "outputs": [],
      "source": [
        "def rev2(n):\n",
        "    if n not in range(-2**31, 2**31):\n",
        "        return 0\n",
        "    \n",
        "    # Getting rid of the sign\n",
        "    if n < 0:\n",
        "        sign = -1\n",
        "    else:\n",
        "        sign = 1\n",
        "    n = abs(n)\n",
        "    \n",
        "    # Removing tailing 0s\n",
        "    n_stripped = int(str(n).rstrip('0'))\n",
        "    \n",
        "    # Reversing\n",
        "    n_reversed = 0\n",
        "    \n",
        "    while n_stripped > 0:\n",
        "        remainder = n_stripped % 10\n",
        "        n_reversed = n_reversed*10 + remainder\n",
        "        n_stripped = n_stripped // 10\n",
        "        \n",
        "    return sign * n_reversed"
      ]
    },
    {
      "cell_type": "code",
      "execution_count": null,
      "id": "6b43b950",
      "metadata": {
        "id": "6b43b950",
        "outputId": "8b54a421-544e-49b0-f8a2-15eaabe8d67f",
        "colab": {
          "base_uri": "https://localhost:8080/"
        }
      },
      "outputs": [
        {
          "output_type": "execute_result",
          "data": {
            "text/plain": [
              "-3201"
            ]
          },
          "metadata": {},
          "execution_count": 27
        }
      ],
      "source": [
        "rev2(-10230)"
      ]
    },
    {
      "cell_type": "markdown",
      "id": "44fb6c7c",
      "metadata": {
        "id": "44fb6c7c"
      },
      "source": [
        "### Unique Char\n"
      ]
    },
    {
      "cell_type": "code",
      "execution_count": null,
      "id": "deb36a6c",
      "metadata": {
        "id": "deb36a6c"
      },
      "outputs": [],
      "source": [
        "def unique_char(s):\n",
        "    # lower case\n",
        "    s = s.lower()\n",
        "    \n",
        "    #count the repetition\n",
        "    counts = {}\n",
        "    for char in s:\n",
        "        if char not in counts:\n",
        "            counts[char] = 1\n",
        "        else:\n",
        "            counts[char] += 1\n",
        "            \n",
        "    for i in range(len(s)):\n",
        "        if counts[s[i]] == 1:\n",
        "            return i\n",
        "    return -1"
      ]
    },
    {
      "cell_type": "code",
      "execution_count": null,
      "id": "8f03207e",
      "metadata": {
        "id": "8f03207e",
        "outputId": "5ffcb74b-9a16-42c9-d58d-bc92d5e0e3b9",
        "colab": {
          "base_uri": "https://localhost:8080/"
        }
      },
      "outputs": [
        {
          "output_type": "execute_result",
          "data": {
            "text/plain": [
              "-1"
            ]
          },
          "metadata": {},
          "execution_count": 29
        }
      ],
      "source": [
        "unique_char('zzxxccvvbb')"
      ]
    },
    {
      "cell_type": "markdown",
      "id": "e1a14274",
      "metadata": {
        "id": "e1a14274"
      },
      "source": [
        "### Defanging\n"
      ]
    },
    {
      "cell_type": "code",
      "execution_count": null,
      "id": "4a7282fe",
      "metadata": {
        "id": "4a7282fe"
      },
      "outputs": [],
      "source": [
        "def defanging(s):\n",
        "    defanged = ''\n",
        "    for char in s:\n",
        "        if char == '.':\n",
        "            defanged +=  \"[.]\"\n",
        "        else:\n",
        "            defanged += char\n",
        "    return defanged"
      ]
    },
    {
      "cell_type": "code",
      "execution_count": null,
      "id": "4ce25a88",
      "metadata": {
        "id": "4ce25a88",
        "outputId": "94839536-0675-44c4-eae9-18f42adecd51",
        "colab": {
          "base_uri": "https://localhost:8080/",
          "height": 35
        }
      },
      "outputs": [
        {
          "output_type": "execute_result",
          "data": {
            "text/plain": [
              "'127[.]0[.]0[.]1'"
            ],
            "application/vnd.google.colaboratory.intrinsic+json": {
              "type": "string"
            }
          },
          "metadata": {},
          "execution_count": 31
        }
      ],
      "source": [
        "defanging('127.0.0.1')"
      ]
    },
    {
      "cell_type": "code",
      "execution_count": null,
      "id": "c8808792",
      "metadata": {
        "id": "c8808792"
      },
      "outputs": [],
      "source": [
        "def defanging2(s):\n",
        "    splited = s.split('.')\n",
        "    return '[.]'.join(splited)"
      ]
    },
    {
      "cell_type": "code",
      "execution_count": null,
      "id": "3e379e28",
      "metadata": {
        "id": "3e379e28",
        "outputId": "d9bc5b80-6b71-4516-8594-1d8c6303b2b1",
        "colab": {
          "base_uri": "https://localhost:8080/",
          "height": 35
        }
      },
      "outputs": [
        {
          "output_type": "execute_result",
          "data": {
            "text/plain": [
              "'127[.]0[.]0[.]1'"
            ],
            "application/vnd.google.colaboratory.intrinsic+json": {
              "type": "string"
            }
          },
          "metadata": {},
          "execution_count": 33
        }
      ],
      "source": [
        "defanging2('127.0.0.1')"
      ]
    },
    {
      "cell_type": "markdown",
      "id": "c8135ae9",
      "metadata": {
        "id": "c8135ae9"
      },
      "source": [
        "### Anagram\n"
      ]
    },
    {
      "cell_type": "code",
      "execution_count": null,
      "id": "4039c7c7",
      "metadata": {
        "id": "4039c7c7"
      },
      "outputs": [],
      "source": [
        "def anagram(s1, s2):\n",
        "    if len(s1) != len(s2):\n",
        "        return False\n",
        "    s1, s2 = sorted(s1), sorted(s2)\n",
        "    for i in range(len(s1)):\n",
        "        if s1[i] != s2[i]:\n",
        "            return False\n",
        "    return True"
      ]
    },
    {
      "cell_type": "code",
      "execution_count": null,
      "id": "5ba9bf0c",
      "metadata": {
        "id": "5ba9bf0c",
        "outputId": "134ec5b3-2085-48df-e793-f25595d93c9f",
        "colab": {
          "base_uri": "https://localhost:8080/"
        }
      },
      "outputs": [
        {
          "output_type": "execute_result",
          "data": {
            "text/plain": [
              "True"
            ]
          },
          "metadata": {},
          "execution_count": 35
        }
      ],
      "source": [
        "anagram('zxcvbnm', 'mnbvcxz')"
      ]
    },
    {
      "cell_type": "code",
      "execution_count": null,
      "id": "f7f3d7ad",
      "metadata": {
        "id": "f7f3d7ad",
        "outputId": "22815099-1fa5-4a97-b071-bbef238df625",
        "colab": {
          "base_uri": "https://localhost:8080/"
        }
      },
      "outputs": [
        {
          "output_type": "execute_result",
          "data": {
            "text/plain": [
              "True"
            ]
          },
          "metadata": {},
          "execution_count": 36
        }
      ],
      "source": [
        "anagram('zxcvvbnm', 'vmnbvcxz')"
      ]
    },
    {
      "cell_type": "markdown",
      "id": "3e3622a6",
      "metadata": {
        "id": "3e3622a6"
      },
      "source": [
        "### Palindrome\n"
      ]
    },
    {
      "cell_type": "code",
      "execution_count": null,
      "id": "495047e1",
      "metadata": {
        "id": "495047e1"
      },
      "outputs": [],
      "source": [
        "def palindrome(s):\n",
        "    s = s.lower()\n",
        "    for i in range(len(s)):\n",
        "        if s[i] != s[len(s)-i-1]:\n",
        "            return False\n",
        "    return True"
      ]
    },
    {
      "cell_type": "code",
      "execution_count": null,
      "id": "04a5dbb3",
      "metadata": {
        "id": "04a5dbb3",
        "outputId": "b77d83b6-e72d-4247-fa9e-67f150c1119b",
        "colab": {
          "base_uri": "https://localhost:8080/"
        }
      },
      "outputs": [
        {
          "output_type": "execute_result",
          "data": {
            "text/plain": [
              "True"
            ]
          },
          "metadata": {},
          "execution_count": 38
        }
      ],
      "source": [
        "palindrome('Bob')"
      ]
    },
    {
      "cell_type": "markdown",
      "id": "16880b33",
      "metadata": {
        "id": "16880b33"
      },
      "source": [
        "### Factorial\n",
        "n! = n*(n-1)*(n-2)*...*1"
      ]
    },
    {
      "cell_type": "code",
      "execution_count": null,
      "id": "8e91f23e",
      "metadata": {
        "id": "8e91f23e"
      },
      "outputs": [],
      "source": [
        "# use recursion\n",
        "def factorial_recursive(n):\n",
        "    if n == 0:\n",
        "        return 1\n",
        "    else:\n",
        "        return n * factorial_recursive(n-1)"
      ]
    },
    {
      "cell_type": "code",
      "execution_count": null,
      "id": "73f92c7a",
      "metadata": {
        "id": "73f92c7a"
      },
      "outputs": [],
      "source": [
        "# use dynamic programming\n",
        "def factorial_dynamic(n):\n",
        "    memo = np.ones(n+1)\n",
        "    \n",
        "    for i in range(1, n+1):\n",
        "        memo[i] = i * memo[i-1]\n",
        "        \n",
        "    return memo[n]"
      ]
    },
    {
      "cell_type": "code",
      "execution_count": null,
      "id": "91d95a8a",
      "metadata": {
        "id": "91d95a8a",
        "outputId": "9912982e-2d21-49fe-d0fb-092d45d685e5",
        "colab": {
          "base_uri": "https://localhost:8080/"
        }
      },
      "outputs": [
        {
          "output_type": "stream",
          "name": "stdout",
          "text": [
            "120\n",
            "120.0\n"
          ]
        }
      ],
      "source": [
        "print(factorial_recursive(5))\n",
        "print(factorial_dynamic(5))"
      ]
    },
    {
      "cell_type": "markdown",
      "id": "ee29253b",
      "metadata": {
        "id": "ee29253b"
      },
      "source": [
        "### Fibonacci Sequence\n",
        "f(n) = f(n-1) + f(n-2)"
      ]
    },
    {
      "cell_type": "code",
      "execution_count": null,
      "id": "81e3a130",
      "metadata": {
        "id": "81e3a130"
      },
      "outputs": [],
      "source": [
        "def fibonacci_recursive(n):\n",
        "    if n == 0 or n == 1:\n",
        "        return n\n",
        "    else:\n",
        "        return fibonacci_recursive(n-1) + fibonacci_recursive(n-2)"
      ]
    },
    {
      "cell_type": "code",
      "execution_count": null,
      "id": "7baaa5ca",
      "metadata": {
        "id": "7baaa5ca"
      },
      "outputs": [],
      "source": [
        "def fibonacci_dynamic(n):\n",
        "    memo = np.zeros(n+1)\n",
        "    \n",
        "    memo[0] = 0\n",
        "    memo[1] = 1\n",
        "    \n",
        "    for i in range(2, n+1):\n",
        "        memo[i] = memo[i-1] + memo[i-2]\n",
        "    return memo[n]"
      ]
    },
    {
      "cell_type": "code",
      "execution_count": null,
      "id": "e42174ac",
      "metadata": {
        "id": "e42174ac",
        "outputId": "294e830d-1fab-4f5a-c4fe-b134cf57b112",
        "colab": {
          "base_uri": "https://localhost:8080/"
        }
      },
      "outputs": [
        {
          "output_type": "stream",
          "name": "stdout",
          "text": [
            "5\n",
            "5.0\n"
          ]
        }
      ],
      "source": [
        "print(fibonacci_recursive(5))\n",
        "print(fibonacci_dynamic(5))"
      ]
    },
    {
      "cell_type": "markdown",
      "id": "7b074701",
      "metadata": {
        "id": "7b074701"
      },
      "source": [
        "### Goal Parser"
      ]
    },
    {
      "cell_type": "code",
      "execution_count": null,
      "id": "1dc84450",
      "metadata": {
        "id": "1dc84450"
      },
      "outputs": [],
      "source": [
        "def parser(command):\n",
        "    return command.replace('()', 'o').replace('(al)', 'al')"
      ]
    },
    {
      "cell_type": "code",
      "execution_count": null,
      "id": "d91e4901",
      "metadata": {
        "id": "d91e4901",
        "outputId": "b3b47075-232a-4aa4-b4a6-854282787a80",
        "colab": {
          "base_uri": "https://localhost:8080/",
          "height": 35
        }
      },
      "outputs": [
        {
          "output_type": "execute_result",
          "data": {
            "text/plain": [
              "'Goal'"
            ],
            "application/vnd.google.colaboratory.intrinsic+json": {
              "type": "string"
            }
          },
          "metadata": {},
          "execution_count": 46
        }
      ],
      "source": [
        "parser('G()(al)')"
      ]
    },
    {
      "cell_type": "code",
      "execution_count": null,
      "id": "4e99fb35",
      "metadata": {
        "id": "4e99fb35"
      },
      "outputs": [],
      "source": [
        "def parser2(command):\n",
        "    # Dic of accepted characters\n",
        "    dic = {'G': 'G', '()': 'o', '(al)': 'al'}\n",
        "    \n",
        "    # loop through the command\n",
        "    parsed = ''\n",
        "    temp = ''\n",
        "    for char in command:\n",
        "        temp += char\n",
        "        if temp in dic:\n",
        "            parsed += dic[temp]\n",
        "            temp = ''\n",
        "    return parsed"
      ]
    },
    {
      "cell_type": "code",
      "execution_count": null,
      "id": "7eb99207",
      "metadata": {
        "id": "7eb99207",
        "outputId": "aa848136-122c-4ac8-8a20-ac01505d3ee5",
        "colab": {
          "base_uri": "https://localhost:8080/",
          "height": 35
        }
      },
      "outputs": [
        {
          "output_type": "execute_result",
          "data": {
            "text/plain": [
              "'Gooal'"
            ],
            "application/vnd.google.colaboratory.intrinsic+json": {
              "type": "string"
            }
          },
          "metadata": {},
          "execution_count": 48
        }
      ],
      "source": [
        "parser2('G()()(al)')"
      ]
    },
    {
      "cell_type": "markdown",
      "id": "37e3c5a9",
      "metadata": {
        "id": "37e3c5a9"
      },
      "source": [
        "### Destination City\n"
      ]
    },
    {
      "cell_type": "code",
      "execution_count": null,
      "id": "8a7399bb",
      "metadata": {
        "id": "8a7399bb"
      },
      "outputs": [],
      "source": [
        "def destination(arr):\n",
        "    paths = np.array(arr)\n",
        "    path_dict = {}\n",
        "    for i in range(len(paths)):\n",
        "        path_dict[paths[i,:][0]] = paths[i,:][1]\n",
        "    for source in path_dict:\n",
        "        if path_dict[source] not in path_dict:\n",
        "            return path_dict[source]"
      ]
    },
    {
      "cell_type": "code",
      "execution_count": null,
      "id": "b8717bb2",
      "metadata": {
        "id": "b8717bb2",
        "outputId": "571bbf52-81e6-4f19-dc78-c8b15a7b8071",
        "colab": {
          "base_uri": "https://localhost:8080/",
          "height": 35
        }
      },
      "outputs": [
        {
          "output_type": "execute_result",
          "data": {
            "text/plain": [
              "'Z'"
            ],
            "application/vnd.google.colaboratory.intrinsic+json": {
              "type": "string"
            }
          },
          "metadata": {},
          "execution_count": 50
        }
      ],
      "source": [
        "destination([[\"B\", \"C\"], [\"D\", \"B\"], [\"C\", \"A\"], [\"A\", \"Z\"]])"
      ]
    },
    {
      "cell_type": "code",
      "execution_count": null,
      "id": "5f1db7a0",
      "metadata": {
        "id": "5f1db7a0"
      },
      "outputs": [],
      "source": [
        "def dest2(paths):\n",
        "    path_dict = {}\n",
        "    for path in paths:\n",
        "        source, destination = path\n",
        "        path_dict[source] = destination\n",
        "    for source in path_dict:\n",
        "        if path_dict[source] not in path_dict:\n",
        "            return path_dict[source]"
      ]
    },
    {
      "cell_type": "code",
      "execution_count": null,
      "id": "e5233543",
      "metadata": {
        "id": "e5233543",
        "outputId": "8da16183-5da2-4f05-fcfa-a6891dc344b8",
        "colab": {
          "base_uri": "https://localhost:8080/",
          "height": 35
        }
      },
      "outputs": [
        {
          "output_type": "execute_result",
          "data": {
            "text/plain": [
              "'Z'"
            ],
            "application/vnd.google.colaboratory.intrinsic+json": {
              "type": "string"
            }
          },
          "metadata": {},
          "execution_count": 52
        }
      ],
      "source": [
        "dest2([[\"B\", \"C\"], [\"D\", \"B\"], [\"C\", \"A\"], [\"A\", \"Z\"]])"
      ]
    },
    {
      "cell_type": "markdown",
      "id": "15abab37",
      "metadata": {
        "id": "15abab37"
      },
      "source": [
        "### Smaller Numbers"
      ]
    },
    {
      "cell_type": "code",
      "execution_count": null,
      "id": "5998658e",
      "metadata": {
        "id": "5998658e"
      },
      "outputs": [],
      "source": [
        "def smaller(nums):\n",
        "    output = []\n",
        "    for num in nums:\n",
        "        counter = 0\n",
        "        for i in range(len(nums)):\n",
        "            if nums[i] < num:\n",
        "                counter += 1\n",
        "        output.append(counter)\n",
        "    return output"
      ]
    },
    {
      "cell_type": "code",
      "execution_count": null,
      "id": "f7cdca03",
      "metadata": {
        "id": "f7cdca03",
        "outputId": "4d688f06-3cb6-47d1-f52d-c37fcb59f3e4",
        "colab": {
          "base_uri": "https://localhost:8080/"
        }
      },
      "outputs": [
        {
          "output_type": "execute_result",
          "data": {
            "text/plain": [
              "[4, 0, 1, 1, 3]"
            ]
          },
          "metadata": {},
          "execution_count": 54
        }
      ],
      "source": [
        "smaller([8, 1, 2, 2,3])"
      ]
    },
    {
      "cell_type": "markdown",
      "id": "dacd23fe",
      "metadata": {
        "id": "dacd23fe"
      },
      "source": [
        "### Binary Search"
      ]
    },
    {
      "cell_type": "code",
      "execution_count": null,
      "id": "a3dd5d8e",
      "metadata": {
        "id": "a3dd5d8e"
      },
      "outputs": [],
      "source": [
        "def bi_search(nums, target):\n",
        "    for i, num in enumerate(nums):\n",
        "        if target == num:\n",
        "            return i\n",
        "    return -1"
      ]
    },
    {
      "cell_type": "code",
      "execution_count": null,
      "id": "1b58a461",
      "metadata": {
        "id": "1b58a461",
        "outputId": "6be0b8e0-cb9b-4ef8-fb5d-a51a21869124",
        "colab": {
          "base_uri": "https://localhost:8080/"
        }
      },
      "outputs": [
        {
          "output_type": "execute_result",
          "data": {
            "text/plain": [
              "4"
            ]
          },
          "metadata": {},
          "execution_count": 56
        }
      ],
      "source": [
        "bi_search([-1,0,3,5,9,12], 9)"
      ]
    },
    {
      "cell_type": "code",
      "execution_count": null,
      "id": "9be736b4",
      "metadata": {
        "id": "9be736b4",
        "outputId": "2e1f09e9-1d6a-40ef-a06d-5c96a1386179",
        "colab": {
          "base_uri": "https://localhost:8080/"
        }
      },
      "outputs": [
        {
          "output_type": "execute_result",
          "data": {
            "text/plain": [
              "-1"
            ]
          },
          "metadata": {},
          "execution_count": 57
        }
      ],
      "source": [
        "bi_search([-1,0,3,5,9, 12], 2)"
      ]
    },
    {
      "cell_type": "markdown",
      "id": "d692e17b",
      "metadata": {
        "id": "d692e17b"
      },
      "source": [
        "### Longest Palindrome"
      ]
    },
    {
      "cell_type": "code",
      "execution_count": null,
      "id": "3d19065f",
      "metadata": {
        "id": "3d19065f"
      },
      "outputs": [],
      "source": [
        "def longest_pal_len(s):\n",
        "    occurance = {}\n",
        "    for char in s:\n",
        "        occurance[char] = occurance.get(char,0) + 1\n",
        "    #return occurance\n",
        "    length = 0\n",
        "    flag = 0\n",
        "    for item in occurance:\n",
        "        length += (occurance[item] // 2) * 2\n",
        "        if (occurance[item] % 2)==1:\n",
        "            flag = 1\n",
        "    if length == 0:\n",
        "        return 0\n",
        "    else:\n",
        "        return length + flag"
      ]
    },
    {
      "cell_type": "code",
      "execution_count": null,
      "id": "c27f4382",
      "metadata": {
        "id": "c27f4382",
        "outputId": "a618787d-e6cc-468f-fb0b-d1919d9e2e82",
        "colab": {
          "base_uri": "https://localhost:8080/"
        }
      },
      "outputs": [
        {
          "output_type": "execute_result",
          "data": {
            "text/plain": [
              "7"
            ]
          },
          "metadata": {},
          "execution_count": 59
        }
      ],
      "source": [
        "longest_pal_len(\"abccccdd\")"
      ]
    },
    {
      "cell_type": "code",
      "execution_count": null,
      "id": "29191229",
      "metadata": {
        "id": "29191229",
        "outputId": "e8a16c9b-8a6f-4fdf-eee8-cea181cd6260",
        "colab": {
          "base_uri": "https://localhost:8080/"
        }
      },
      "outputs": [
        {
          "output_type": "execute_result",
          "data": {
            "text/plain": [
              "0"
            ]
          },
          "metadata": {},
          "execution_count": 60
        }
      ],
      "source": [
        "longest_pal_len(\"Bb\")"
      ]
    },
    {
      "cell_type": "code",
      "execution_count": null,
      "id": "359a2897",
      "metadata": {
        "id": "359a2897"
      },
      "outputs": [],
      "source": [
        "def longest_pal(s):\n",
        "    # form a dictionary of repetition of each character\n",
        "    repetition_dict = {}\n",
        "    for char in s:\n",
        "        repetition_dict[char] = repetition_dict.get(char, 0) + 1\n",
        "    # add half of the repetiotion of each character to the begining and the other half to the end\n",
        "    pal_list = []\n",
        "    for key, value in repetition_dict.items():\n",
        "        if (value//2) != 0:\n",
        "            pal_list.insert(0, key*(value//2))\n",
        "            pal_list.append(key*(value//2))\n",
        "    \n",
        "    # if existed, insert a single character to the middle\n",
        "    for key, value in repetition_dict.items():\n",
        "        if value % 2 == 1:\n",
        "            pal_list.insert(len(pal_list)//2, key)\n",
        "            break\n",
        "    return ''.join(pal_list)"
      ]
    },
    {
      "cell_type": "code",
      "execution_count": null,
      "id": "9fb721a9",
      "metadata": {
        "id": "9fb721a9",
        "outputId": "7f253700-4f5e-4b26-ba3f-381c6d39abea",
        "colab": {
          "base_uri": "https://localhost:8080/",
          "height": 35
        }
      },
      "outputs": [
        {
          "output_type": "execute_result",
          "data": {
            "text/plain": [
              "'dccaccd'"
            ],
            "application/vnd.google.colaboratory.intrinsic+json": {
              "type": "string"
            }
          },
          "metadata": {},
          "execution_count": 62
        }
      ],
      "source": [
        "longest_pal(\"abccccdd\")"
      ]
    },
    {
      "cell_type": "markdown",
      "id": "df1ffb27",
      "metadata": {
        "id": "df1ffb27"
      },
      "source": [
        "### Max Number of Coins"
      ]
    },
    {
      "cell_type": "code",
      "execution_count": null,
      "id": "80f29c83",
      "metadata": {
        "id": "80f29c83"
      },
      "outputs": [],
      "source": [
        "def max_coins(piles):\n",
        "    sorted_piles = sorted(piles, reverse=True)\n",
        "    num_iterations = len(piles) // 3\n",
        "    collected_coins = 0\n",
        "    for n in range(num_iterations):\n",
        "        collected_coins += sorted_piles[2*n+1]\n",
        "    return collected_coins"
      ]
    },
    {
      "cell_type": "code",
      "execution_count": null,
      "id": "5218ea87",
      "metadata": {
        "id": "5218ea87",
        "outputId": "7b8a0636-7e88-4e39-e96a-f0a9dca27ed4",
        "colab": {
          "base_uri": "https://localhost:8080/"
        }
      },
      "outputs": [
        {
          "output_type": "execute_result",
          "data": {
            "text/plain": [
              "4"
            ]
          },
          "metadata": {},
          "execution_count": 64
        }
      ],
      "source": [
        "max_coins([2,4,5])"
      ]
    },
    {
      "cell_type": "code",
      "execution_count": null,
      "id": "8450902d",
      "metadata": {
        "id": "8450902d",
        "outputId": "b3e63dee-b3c1-40d4-bee2-255de265c8c1",
        "colab": {
          "base_uri": "https://localhost:8080/"
        }
      },
      "outputs": [
        {
          "output_type": "execute_result",
          "data": {
            "text/plain": [
              "9"
            ]
          },
          "metadata": {},
          "execution_count": 65
        }
      ],
      "source": [
        "max_coins([2,4,1,2,7,8])"
      ]
    },
    {
      "cell_type": "code",
      "execution_count": null,
      "id": "aefdd4d3",
      "metadata": {
        "id": "aefdd4d3",
        "outputId": "3750b6d6-0da4-41a1-d018-ce9acb58b02e",
        "colab": {
          "base_uri": "https://localhost:8080/"
        }
      },
      "outputs": [
        {
          "output_type": "execute_result",
          "data": {
            "text/plain": [
              "18"
            ]
          },
          "metadata": {},
          "execution_count": 66
        }
      ],
      "source": [
        "max_coins([9,8,7,6,5,1,2,3,4])"
      ]
    },
    {
      "cell_type": "markdown",
      "id": "da20eb3d",
      "metadata": {
        "id": "da20eb3d"
      },
      "source": [
        "### Second biggest"
      ]
    },
    {
      "cell_type": "code",
      "execution_count": null,
      "id": "7d342f2c",
      "metadata": {
        "id": "7d342f2c"
      },
      "outputs": [],
      "source": [
        "def second_largest(lst):\n",
        "    if len(lst) < 2:\n",
        "        print('None!')\n",
        "    else:\n",
        "        return(sorted(set(lst), reverse=True)[1])"
      ]
    },
    {
      "cell_type": "code",
      "execution_count": null,
      "id": "fa4abb82",
      "metadata": {
        "id": "fa4abb82",
        "outputId": "8fc800e1-e433-4fef-b796-594cab8cdb3a",
        "colab": {
          "base_uri": "https://localhost:8080/"
        }
      },
      "outputs": [
        {
          "output_type": "execute_result",
          "data": {
            "text/plain": [
              "6"
            ]
          },
          "metadata": {},
          "execution_count": 68
        }
      ],
      "source": [
        "a = [4, 7, 7, 6]\n",
        "second_largest(a)"
      ]
    },
    {
      "cell_type": "code",
      "execution_count": null,
      "id": "1e71de50",
      "metadata": {
        "id": "1e71de50"
      },
      "outputs": [],
      "source": [
        "def sec_largest(numbers):\n",
        "    # remove duplicates\n",
        "    unique_numbers = []\n",
        "    for number in numbers:\n",
        "        if number not in unique_numbers:\n",
        "            unique_numbers.append(number)\n",
        "    # sort the numbers\n",
        "    unique_numbers.sort()\n",
        "    return unique_numbers[-2]"
      ]
    },
    {
      "cell_type": "code",
      "execution_count": null,
      "id": "ebcc2c39",
      "metadata": {
        "id": "ebcc2c39",
        "outputId": "07188d69-c037-4deb-9c70-c97469c735dc",
        "colab": {
          "base_uri": "https://localhost:8080/"
        }
      },
      "outputs": [
        {
          "output_type": "execute_result",
          "data": {
            "text/plain": [
              "6"
            ]
          },
          "metadata": {},
          "execution_count": 70
        }
      ],
      "source": [
        "sec_largest([3, 4, 1, 6, 7, 7])"
      ]
    },
    {
      "cell_type": "markdown",
      "id": "e0e91449",
      "metadata": {
        "id": "e0e91449"
      },
      "source": [
        "### Reverse vowels in an string"
      ]
    },
    {
      "cell_type": "code",
      "execution_count": null,
      "id": "7812b21b",
      "metadata": {
        "id": "7812b21b"
      },
      "outputs": [],
      "source": [
        "def rev_vowel(string):\n",
        "    vowels = ['a', 'e', 'o', 'i', 'u']\n",
        "    vowel_chars = []\n",
        "    indx = []\n",
        "    for idx, char in enumerate(string):\n",
        "        if char.lower() in vowels:\n",
        "            vowel_chars.append(char.lower())\n",
        "            indx.append(idx)\n",
        "    rev_indx = indx[::-1]\n",
        "    vow_dict = {indx[i]: rev_indx[i] for i in range(len(indx))}\n",
        "    reversed_vowel = ''\n",
        "    for idx, char in enumerate(string):\n",
        "        if char not in vowels:\n",
        "            reversed_vowel = reversed_vowel + char\n",
        "        else:\n",
        "            reversed_vowel = reversed_vowel + string[vow_dict[idx]]\n",
        "    return reversed_vowel"
      ]
    },
    {
      "cell_type": "code",
      "execution_count": null,
      "id": "6058cceb",
      "metadata": {
        "id": "6058cceb",
        "outputId": "6a97d80f-8244-45fa-e21e-7aee91021162",
        "colab": {
          "base_uri": "https://localhost:8080/",
          "height": 35
        }
      },
      "outputs": [
        {
          "output_type": "execute_result",
          "data": {
            "text/plain": [
              "'leotcede'"
            ],
            "application/vnd.google.colaboratory.intrinsic+json": {
              "type": "string"
            }
          },
          "metadata": {},
          "execution_count": 72
        }
      ],
      "source": [
        "rev_vowel('leetcode')"
      ]
    },
    {
      "cell_type": "code",
      "execution_count": null,
      "id": "8bc1181d",
      "metadata": {
        "id": "8bc1181d"
      },
      "outputs": [],
      "source": [
        "def rev_vowel2(s):\n",
        "    s = s.lower()\n",
        "    vowels = ['a', 'e', 'i', 'o', 'u']\n",
        "    # find vowels in the string\n",
        "    vowel_chars = []\n",
        "    for char in s:\n",
        "        if char in vowels:\n",
        "            vowel_chars.append(char)\n",
        "        reversed_vowel = vowel_chars[::-1]   # reverse the order of vowels\n",
        "    \n",
        "    # iterate through the string and substitute vowels backward\n",
        "    locator = 0\n",
        "    output = ''\n",
        "    for char in s:\n",
        "        if char in vowels:\n",
        "            output += reversed_vowel[locator]\n",
        "            locator += 1\n",
        "        else:\n",
        "            output += char\n",
        "    return output"
      ]
    },
    {
      "cell_type": "code",
      "execution_count": null,
      "id": "77c15ee4",
      "metadata": {
        "id": "77c15ee4",
        "outputId": "72979061-9a66-4eba-9df3-5a038fa43a2b",
        "colab": {
          "base_uri": "https://localhost:8080/",
          "height": 35
        }
      },
      "outputs": [
        {
          "output_type": "execute_result",
          "data": {
            "text/plain": [
              "'leotcede'"
            ],
            "application/vnd.google.colaboratory.intrinsic+json": {
              "type": "string"
            }
          },
          "metadata": {},
          "execution_count": 74
        }
      ],
      "source": [
        "rev_vowel2('leetcode')"
      ]
    },
    {
      "cell_type": "markdown",
      "id": "4e61edc2",
      "metadata": {
        "id": "4e61edc2"
      },
      "source": [
        "### Single Occurance"
      ]
    },
    {
      "cell_type": "code",
      "execution_count": null,
      "id": "bf2dbc18",
      "metadata": {
        "id": "bf2dbc18"
      },
      "outputs": [],
      "source": [
        "def single(arry):\n",
        "    count_dict = {}\n",
        "    for item in arry:\n",
        "        count_dict[item] = count_dict.get(item, 0) + 1\n",
        "    # return count_dict\n",
        "    for key in count_dict:\n",
        "        if  count_dict[key]== 1:\n",
        "            return key"
      ]
    },
    {
      "cell_type": "code",
      "execution_count": null,
      "id": "bf84104a",
      "metadata": {
        "id": "bf84104a",
        "outputId": "bfde1243-b2c4-41e6-fd29-10bcbe015743",
        "colab": {
          "base_uri": "https://localhost:8080/"
        }
      },
      "outputs": [
        {
          "output_type": "execute_result",
          "data": {
            "text/plain": [
              "3"
            ]
          },
          "metadata": {},
          "execution_count": 76
        }
      ],
      "source": [
        "single([1, 2, 3, 2, 1])"
      ]
    },
    {
      "cell_type": "markdown",
      "id": "b6b4e290",
      "metadata": {
        "id": "b6b4e290"
      },
      "source": [
        "### Remove duplicates"
      ]
    },
    {
      "cell_type": "code",
      "execution_count": null,
      "id": "787ac631",
      "metadata": {
        "id": "787ac631"
      },
      "outputs": [],
      "source": [
        "def remove_duplicates(strings):\n",
        "    #remove duplicates\n",
        "    new_list = []\n",
        "    for string in strings:\n",
        "        if string not in new_list:\n",
        "            new_list.append(string)\n",
        "    return new_list"
      ]
    },
    {
      "cell_type": "code",
      "execution_count": null,
      "id": "31e853e8",
      "metadata": {
        "id": "31e853e8",
        "outputId": "6cb3c090-36ba-47cd-acbd-daa04f78b77b",
        "colab": {
          "base_uri": "https://localhost:8080/"
        }
      },
      "outputs": [
        {
          "output_type": "execute_result",
          "data": {
            "text/plain": [
              "['a', 's', 'd', 'x']"
            ]
          },
          "metadata": {},
          "execution_count": 78
        }
      ],
      "source": [
        "s = ['a', 's', 'd', 'a', 'd', 'x']\n",
        "remove_duplicates(s)"
      ]
    },
    {
      "cell_type": "markdown",
      "id": "53a776c3",
      "metadata": {
        "id": "53a776c3"
      },
      "source": [
        "### Switch key & value in a Dict"
      ]
    },
    {
      "cell_type": "code",
      "execution_count": null,
      "id": "dce4835d",
      "metadata": {
        "id": "dce4835d"
      },
      "outputs": [],
      "source": [
        "def switch_dict(d):\n",
        "    new_d = {}\n",
        "    for key in d:\n",
        "        new_d[d[key]] = key\n",
        "    return new_d"
      ]
    },
    {
      "cell_type": "code",
      "execution_count": null,
      "id": "63aad621",
      "metadata": {
        "id": "63aad621",
        "outputId": "b1c29a69-b207-40fc-8007-e0ad494cb7ea",
        "colab": {
          "base_uri": "https://localhost:8080/"
        }
      },
      "outputs": [
        {
          "output_type": "execute_result",
          "data": {
            "text/plain": [
              "{'Ali': 'name', 'DS': 'job'}"
            ]
          },
          "metadata": {},
          "execution_count": 80
        }
      ],
      "source": [
        "d = {'name': 'Ali', 'job': 'DS'}\n",
        "switch_dict(d)"
      ]
    },
    {
      "cell_type": "code",
      "execution_count": null,
      "id": "3e6aff95",
      "metadata": {
        "id": "3e6aff95"
      },
      "outputs": [],
      "source": [
        "def switch_dict2(d):\n",
        "    return {value: key for key, value in d.items()}"
      ]
    },
    {
      "cell_type": "code",
      "execution_count": null,
      "id": "59f74bee",
      "metadata": {
        "id": "59f74bee",
        "outputId": "c5a1d5f6-f02c-482b-a7a2-ea0b120dc86a",
        "colab": {
          "base_uri": "https://localhost:8080/"
        }
      },
      "outputs": [
        {
          "output_type": "execute_result",
          "data": {
            "text/plain": [
              "{'Ali': 'name', 'DS': 'job'}"
            ]
          },
          "metadata": {},
          "execution_count": 82
        }
      ],
      "source": [
        "switch_dict2(d)"
      ]
    },
    {
      "cell_type": "markdown",
      "id": "0b17c63e",
      "metadata": {
        "id": "0b17c63e"
      },
      "source": [
        "### Count occurance"
      ]
    },
    {
      "cell_type": "code",
      "execution_count": null,
      "id": "1545cfa6",
      "metadata": {
        "id": "1545cfa6"
      },
      "outputs": [],
      "source": [
        "def count_occurrences(numbers):\n",
        "    count_dict = {}\n",
        "    for num in numbers:\n",
        "        count_dict[num] = count_dict.get(num, 0) + 1\n",
        "    return count_dict"
      ]
    },
    {
      "cell_type": "code",
      "execution_count": null,
      "id": "528c601d",
      "metadata": {
        "id": "528c601d",
        "outputId": "7ce538c0-faed-4271-944b-17245a31b297",
        "colab": {
          "base_uri": "https://localhost:8080/"
        }
      },
      "outputs": [
        {
          "output_type": "execute_result",
          "data": {
            "text/plain": [
              "{1: 1, 2: 3, 5: 1, 3: 2, 6: 1, 4: 1}"
            ]
          },
          "metadata": {},
          "execution_count": 84
        }
      ],
      "source": [
        "num = [1, 2, 2, 5, 3, 6, 4, 2, 3]\n",
        "count_occurrences(num)"
      ]
    },
    {
      "cell_type": "markdown",
      "id": "573b64ca",
      "metadata": {
        "id": "573b64ca"
      },
      "source": [
        "### Find median"
      ]
    },
    {
      "cell_type": "code",
      "execution_count": null,
      "id": "8b2d99c3",
      "metadata": {
        "id": "8b2d99c3"
      },
      "outputs": [],
      "source": [
        "def find_median(numbers):\n",
        "    # find location of the median\n",
        "    length = len(numbers)\n",
        "    if length % 2 == 0:\n",
        "        loc = (length / 2) - 1\n",
        "    else:\n",
        "        loc = length // 2\n",
        "    #find the median\n",
        "    median = sorted(numbers)[loc]\n",
        "    return median"
      ]
    },
    {
      "cell_type": "code",
      "execution_count": null,
      "id": "4fc6fd23",
      "metadata": {
        "id": "4fc6fd23",
        "outputId": "6fbf3d60-a841-4caa-93c9-9babd9fa3525",
        "colab": {
          "base_uri": "https://localhost:8080/"
        }
      },
      "outputs": [
        {
          "output_type": "execute_result",
          "data": {
            "text/plain": [
              "4"
            ]
          },
          "metadata": {},
          "execution_count": 86
        }
      ],
      "source": [
        "n = [1,3,4,5,4,6,7,3,2,5,9]\n",
        "find_median(n)"
      ]
    },
    {
      "cell_type": "markdown",
      "id": "1626edac",
      "metadata": {
        "id": "1626edac"
      },
      "source": [
        "### Add up"
      ]
    },
    {
      "cell_type": "code",
      "execution_count": null,
      "id": "9c619139",
      "metadata": {
        "id": "9c619139"
      },
      "outputs": [],
      "source": [
        "def two_sum(numbers, target):\n",
        "    flag = 0\n",
        "    for num in numbers:\n",
        "        if (target - num) in numbers:\n",
        "            flag = 1\n",
        "            \n",
        "    if flag == 1:\n",
        "        return True\n",
        "    else:\n",
        "        return False"
      ]
    },
    {
      "cell_type": "code",
      "execution_count": null,
      "id": "823b15a5",
      "metadata": {
        "id": "823b15a5",
        "outputId": "e892f81a-1c48-4cde-ac42-7f3b75c03d60",
        "colab": {
          "base_uri": "https://localhost:8080/"
        }
      },
      "outputs": [
        {
          "output_type": "execute_result",
          "data": {
            "text/plain": [
              "True"
            ]
          },
          "metadata": {},
          "execution_count": 88
        }
      ],
      "source": [
        "numbers = [1,3,4,7]\n",
        "target = 5\n",
        "two_sum(numbers, target)"
      ]
    },
    {
      "cell_type": "markdown",
      "id": "f1cef46b",
      "metadata": {
        "id": "f1cef46b"
      },
      "source": [
        "### Most frequent"
      ]
    },
    {
      "cell_type": "code",
      "execution_count": null,
      "id": "093b17db",
      "metadata": {
        "id": "093b17db"
      },
      "outputs": [],
      "source": [
        "def most_frequent(numbers):\n",
        "    frequency_dict = {}\n",
        "    for num in numbers:\n",
        "        frequency_dict[num] = frequency_dict.get(num, 0) + 1\n",
        "        \n",
        "    inverse = [(value, key) for key, value in frequency_dict.items()]\n",
        "    return max(inverse)[1]"
      ]
    },
    {
      "cell_type": "code",
      "execution_count": null,
      "id": "279f36da",
      "metadata": {
        "id": "279f36da",
        "outputId": "ad012381-c51b-43b4-f704-3a60d3222094",
        "colab": {
          "base_uri": "https://localhost:8080/"
        }
      },
      "outputs": [
        {
          "output_type": "execute_result",
          "data": {
            "text/plain": [
              "3"
            ]
          },
          "metadata": {},
          "execution_count": 90
        }
      ],
      "source": [
        "most_frequent([1,3,2,4,3,3,5,4,3,3,9,3])"
      ]
    },
    {
      "cell_type": "code",
      "execution_count": null,
      "id": "499e9ea7",
      "metadata": {
        "id": "499e9ea7"
      },
      "outputs": [],
      "source": [
        "def most_frequent2(numbers):\n",
        "    frequency_dict = {}\n",
        "    for num in numbers:\n",
        "        frequency_dict[num] = frequency_dict.get(num, 0) + 1\n",
        "        \n",
        "    return max(frequency_dict, key=frequency_dict.get)"
      ]
    },
    {
      "cell_type": "code",
      "execution_count": null,
      "id": "5a3f8857",
      "metadata": {
        "id": "5a3f8857",
        "outputId": "b7ee1210-fa32-4cfe-d378-d55d48df501c",
        "colab": {
          "base_uri": "https://localhost:8080/"
        }
      },
      "outputs": [
        {
          "output_type": "execute_result",
          "data": {
            "text/plain": [
              "3"
            ]
          },
          "metadata": {},
          "execution_count": 92
        }
      ],
      "source": [
        "most_frequent2([1,3,2,4,3,3,5,4,3,3,9,3])"
      ]
    },
    {
      "cell_type": "markdown",
      "id": "d805c90c",
      "metadata": {
        "id": "d805c90c"
      },
      "source": [
        "### Maximum of lists of lists"
      ]
    },
    {
      "cell_type": "code",
      "execution_count": null,
      "id": "bc841f02",
      "metadata": {
        "id": "bc841f02"
      },
      "outputs": [],
      "source": [
        "def max_of_sublists(lists):\n",
        "    max_nums = []\n",
        "    for lst in lists:\n",
        "        max_nums.append(max(lst))\n",
        "    return max_nums"
      ]
    },
    {
      "cell_type": "code",
      "execution_count": null,
      "id": "97f0d241",
      "metadata": {
        "id": "97f0d241",
        "outputId": "863d3158-58a0-4118-8072-59022f565b06",
        "colab": {
          "base_uri": "https://localhost:8080/"
        }
      },
      "outputs": [
        {
          "output_type": "execute_result",
          "data": {
            "text/plain": [
              "[7, 6, 9]"
            ]
          },
          "metadata": {},
          "execution_count": 94
        }
      ],
      "source": [
        "a = [[1,3,7], [2,4,6], [7,8,9]]\n",
        "max_of_sublists(a)"
      ]
    },
    {
      "cell_type": "markdown",
      "id": "2c085ffb",
      "metadata": {
        "id": "2c085ffb"
      },
      "source": [
        "### Matrix transpose"
      ]
    },
    {
      "cell_type": "code",
      "execution_count": null,
      "id": "d591f62e",
      "metadata": {
        "id": "d591f62e"
      },
      "outputs": [],
      "source": [
        "def transpose(matrix):\n",
        "    return [[matrix[j][i] for j in range(len(matrix))] for i in range(len(matrix[0]))]"
      ]
    },
    {
      "cell_type": "code",
      "execution_count": null,
      "id": "a6820f9e",
      "metadata": {
        "id": "a6820f9e",
        "outputId": "3db50bc9-c183-47f1-c30f-565748d5fa22",
        "colab": {
          "base_uri": "https://localhost:8080/"
        }
      },
      "outputs": [
        {
          "output_type": "execute_result",
          "data": {
            "text/plain": [
              "[[1, 2, 7], [3, 4, 8], [7, 6, 9]]"
            ]
          },
          "metadata": {},
          "execution_count": 96
        }
      ],
      "source": [
        "a = [[1,3,7], [2,4,6], [7,8,9]]\n",
        "transpose(a)"
      ]
    },
    {
      "cell_type": "markdown",
      "source": [
        "### Calculate Stats (mean, median, mode)"
      ],
      "metadata": {
        "id": "e6xELkqxhnSt"
      },
      "id": "e6xELkqxhnSt"
    },
    {
      "cell_type": "code",
      "execution_count": null,
      "id": "3104061e",
      "metadata": {
        "id": "3104061e"
      },
      "outputs": [],
      "source": [
        "def calculate_stats(numbers):\n",
        "  \n",
        "  # calculate mean\n",
        "  mean = sum(numbers) / len(numbers)\n",
        "\n",
        "  #calculate median\n",
        "  median = sorted(numbers)[len(numbers)//2]\n",
        "\n",
        "  # calculate mode\n",
        "  repetition_dict = {}\n",
        "  for number in numbers:\n",
        "    repetition_dict[number] = repetition_dict.get(number, 0) + 1\n",
        "\n",
        "  inverse = [(value, key) for key, value in repetition_dict.items()]\n",
        "  mode = max(inverse)[1]\n",
        "\n",
        "  print('Mean is equal to {}, median is {}, and mode is {}'.format(mean, median, mode))\n"
      ]
    },
    {
      "cell_type": "code",
      "source": [
        "calculate_stats([4, 2, 3, 4, 7, 8, 1])"
      ],
      "metadata": {
        "id": "Bar2sW57l89T",
        "outputId": "f275493d-ccbc-43c1-82b2-aa06a2b76b04",
        "colab": {
          "base_uri": "https://localhost:8080/"
        }
      },
      "id": "Bar2sW57l89T",
      "execution_count": null,
      "outputs": [
        {
          "output_type": "stream",
          "name": "stdout",
          "text": [
            "Mean is equal to 4.142857142857143, median is 4, and mode is 4\n"
          ]
        }
      ]
    },
    {
      "cell_type": "markdown",
      "source": [
        "### Commom hashtags"
      ],
      "metadata": {
        "id": "7cAcBINXpoF5"
      },
      "id": "7cAcBINXpoF5"
    },
    {
      "cell_type": "code",
      "source": [
        "def find_common_hashtags(tweets):\n",
        "  hashtags = {}\n",
        "  for tweet in tweets:\n",
        "      words = tweet.split()\n",
        "      for word in words:\n",
        "          if word.startswith('#'):\n",
        "              hashtag = word.lower()\n",
        "              hashtags[hashtag] = hashtags.get(hashtag, 0) + 1\n",
        "  common_hashtags = sorted(hashtags.keys(), key=lambda x: hashtags[x], reverse=True)\n",
        "  return common_hashtags"
      ],
      "metadata": {
        "id": "UhcmuOr4mXs8"
      },
      "id": "UhcmuOr4mXs8",
      "execution_count": null,
      "outputs": []
    },
    {
      "cell_type": "code",
      "source": [
        "find_common_hashtags(['#DataScience', '#datascience', '#asd', '#zxc', '#Zxc'])"
      ],
      "metadata": {
        "id": "ohWU83RXp57C",
        "outputId": "51a382b0-1642-4209-b9f8-6d86949b2dc6",
        "colab": {
          "base_uri": "https://localhost:8080/"
        }
      },
      "id": "ohWU83RXp57C",
      "execution_count": null,
      "outputs": [
        {
          "output_type": "execute_result",
          "data": {
            "text/plain": [
              "['#datascience', '#zxc', '#asd']"
            ]
          },
          "metadata": {},
          "execution_count": 100
        }
      ]
    },
    {
      "cell_type": "markdown",
      "source": [
        "### Remove duplicates and preserve the order"
      ],
      "metadata": {
        "id": "auNaANcm4AZ1"
      },
      "id": "auNaANcm4AZ1"
    },
    {
      "cell_type": "code",
      "source": [
        "def unique(numbers):\n",
        "  unique_num = []\n",
        "  for number in numbers:\n",
        "    if number not in unique_num:\n",
        "      unique_num.append(number)\n",
        "\n",
        "  return unique_num"
      ],
      "metadata": {
        "id": "wZYUvueu4F6O"
      },
      "id": "wZYUvueu4F6O",
      "execution_count": null,
      "outputs": []
    },
    {
      "cell_type": "code",
      "source": [
        "unique([7,2,3,5,9,7,3,1,4,3])"
      ],
      "metadata": {
        "id": "eLfjsgEN4cv8",
        "outputId": "54492d80-f11c-4154-a709-8106409de767",
        "colab": {
          "base_uri": "https://localhost:8080/"
        }
      },
      "id": "eLfjsgEN4cv8",
      "execution_count": null,
      "outputs": [
        {
          "output_type": "execute_result",
          "data": {
            "text/plain": [
              "[7, 2, 3, 5, 9, 1, 4]"
            ]
          },
          "metadata": {},
          "execution_count": 102
        }
      ]
    },
    {
      "cell_type": "markdown",
      "source": [
        "### 6-sided dice"
      ],
      "metadata": {
        "id": "NnJy6HX0L1Rv"
      },
      "id": "NnJy6HX0L1Rv"
    },
    {
      "cell_type": "code",
      "source": [
        "import random\n",
        "\n",
        "def six_sided_dice():\n",
        "  return random.randint(1,6)   # role a dice\n",
        "\n",
        "# role a dice 10000 times and count the outcomes\n",
        "trials = 10000\n",
        "count_dict = {}\n",
        "for i in range(trials):\n",
        "  side = six_sided_dice()\n",
        "  count_dict[side] = count_dict.get(side, 0) + 1\n",
        "\n",
        "# calculate the proportion of each outcome in 10000 trials and round to 3 decimal points\n",
        "outcome = np.zeros(6)\n",
        "for j in range(6):\n",
        "  outcome[j] = round(count_dict[j+1] / trials, 3)\n",
        "\n",
        "outcome"
      ],
      "metadata": {
        "id": "sCKS07WPL4xH",
        "outputId": "3ec230a8-57a9-4e09-b3bc-c54bb181fc2e",
        "colab": {
          "base_uri": "https://localhost:8080/"
        }
      },
      "id": "sCKS07WPL4xH",
      "execution_count": 57,
      "outputs": [
        {
          "output_type": "execute_result",
          "data": {
            "text/plain": [
              "array([0.17 , 0.168, 0.165, 0.172, 0.16 , 0.166])"
            ]
          },
          "metadata": {},
          "execution_count": 57
        }
      ]
    },
    {
      "cell_type": "markdown",
      "source": [
        "### 7-sided dice from 6-sided\n",
        "Write a function that simulates a 7-sided die roll using a 6-sided die. You will need to show that the outcomes of the 7-sided die from your function are equally likely by generating a simulation with 10,000 trials of the function call.\n",
        "Output a list of proportions with the first element array representing side 1 and the last element representing side 7. Round the proportions to three decimal places.\n",
        "You may use the random.randint(1, 6) from the random library to roll a 6-sided die, but do not use random.randint (1, 7).\n",
        "\n"
      ],
      "metadata": {
        "id": "DyHX8mPyt0JT"
      },
      "id": "DyHX8mPyt0JT"
    },
    {
      "cell_type": "code",
      "source": [
        "import random\n",
        "\n",
        "def six_sided_dice():\n",
        "  return random.randint(1,6)   # role a dice\n",
        "\n",
        "dice_dict = {\n",
        "    (1,1): 1,\n",
        "    (2,2): 2,\n",
        "    (3,3): 3,\n",
        "    (4,4): 4,\n",
        "    (5,5): 5,\n",
        "    (6,6): 6,\n",
        "    (1,6): 7\n",
        "}\n",
        "\n",
        "def seven_sided_dice():\n",
        "  dice1 = six_sided_dice()\n",
        "  dice2 = six_sided_dice()\n",
        "  return (dice1, dice2)\n",
        "\n",
        "counter = 0\n",
        "trials = 10000\n",
        "side_counter = [0] * 7\n",
        "while counter < trials+1:\n",
        "  dice = seven_sided_dice()\n",
        "  if dice in dice_dict:\n",
        "    side_counter[dice_dict[dice] - 1] += 1\n",
        "    counter += 1\n",
        "\n",
        "outcome = np.zeros(7)\n",
        "for j in range(7):\n",
        "  outcome[j] = round(side_counter[j] / trials, 3)\n",
        "\n",
        "outcome"
      ],
      "metadata": {
        "id": "vQ_io3lv6gUq",
        "outputId": "86b0d72e-8f48-4fe0-ecf0-c61530cbbf70",
        "colab": {
          "base_uri": "https://localhost:8080/"
        }
      },
      "id": "vQ_io3lv6gUq",
      "execution_count": 84,
      "outputs": [
        {
          "output_type": "execute_result",
          "data": {
            "text/plain": [
              "array([0.143, 0.139, 0.144, 0.141, 0.144, 0.145, 0.144])"
            ]
          },
          "metadata": {},
          "execution_count": 84
        }
      ]
    }
  ],
  "metadata": {
    "kernelspec": {
      "display_name": "Python 3 (ipykernel)",
      "language": "python",
      "name": "python3"
    },
    "language_info": {
      "codemirror_mode": {
        "name": "ipython",
        "version": 3
      },
      "file_extension": ".py",
      "mimetype": "text/x-python",
      "name": "python",
      "nbconvert_exporter": "python",
      "pygments_lexer": "ipython3",
      "version": "3.9.12"
    },
    "colab": {
      "provenance": []
    }
  },
  "nbformat": 4,
  "nbformat_minor": 5
}