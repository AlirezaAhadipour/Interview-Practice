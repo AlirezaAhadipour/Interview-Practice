{
 "cells": [
  {
   "cell_type": "code",
   "execution_count": 1,
   "id": "94a3da2c",
   "metadata": {},
   "outputs": [],
   "source": [
    "import numpy as np"
   ]
  },
  {
   "cell_type": "markdown",
   "id": "aca118ad",
   "metadata": {},
   "source": [
    "### Is Unique: \n"
   ]
  },
  {
   "cell_type": "code",
   "execution_count": 3,
   "id": "a44bbd56",
   "metadata": {},
   "outputs": [],
   "source": [
    "def uniquee(x):\n",
    "    \n",
    "    x = x.lower()\n",
    "    \n",
    "    chars = []\n",
    "    \n",
    "    for character in x:\n",
    "        if character in chars:\n",
    "            return False\n",
    "        else:\n",
    "            chars.append(character)\n",
    "            \n",
    "    return True"
   ]
  },
  {
   "cell_type": "code",
   "execution_count": 4,
   "id": "043e33cd",
   "metadata": {},
   "outputs": [
    {
     "name": "stdout",
     "output_type": "stream",
     "text": [
      "False\n"
     ]
    }
   ],
   "source": [
    "x = \"Alexa\"\n",
    "print(uniquee(x))"
   ]
  },
  {
   "cell_type": "markdown",
   "id": "84af6a9c",
   "metadata": {},
   "source": [
    "### Check Permutation: \n",
    "Given two strings, write a method to decide if one is a permutation of the other."
   ]
  },
  {
   "cell_type": "code",
   "execution_count": 5,
   "id": "75f13cef",
   "metadata": {},
   "outputs": [],
   "source": [
    "def permutationn(str1, str2):\n",
    "    if len(str1) != len(str2):\n",
    "        return False\n",
    "    else:\n",
    "        s1, s2 = sorted(str1), sorted(str2)\n",
    "        for i in range(len(str1)):\n",
    "            if s1[i] != s2[i]:\n",
    "                return False\n",
    "        return True"
   ]
  },
  {
   "cell_type": "code",
   "execution_count": 6,
   "id": "0a34d327",
   "metadata": {},
   "outputs": [
    {
     "data": {
      "text/plain": [
       "True"
      ]
     },
     "execution_count": 6,
     "metadata": {},
     "output_type": "execute_result"
    }
   ],
   "source": [
    "permutationn('asd', 'sda')"
   ]
  },
  {
   "cell_type": "markdown",
   "id": "0cdf48aa",
   "metadata": {},
   "source": [
    "### URLify: \n",
    "Write a method to replace all spaces in a string with '%20'. You may assume that the string has sufficient space at the end to hold the additional characters, and that you are given the \"true\" length of the string.\n",
    "\n",
    "Input: \"Mr 3ohn Smith\"\n",
    "Output: \"Mr%203ohn%20Smith\""
   ]
  },
  {
   "cell_type": "code",
   "execution_count": 7,
   "id": "f72647ec",
   "metadata": {},
   "outputs": [],
   "source": [
    "def urlify(string):\n",
    "    output = ''\n",
    "    for char in string:\n",
    "        if char == ' ':\n",
    "            char = '%20'\n",
    "            output += char\n",
    "        else:\n",
    "            output += char\n",
    "    return output"
   ]
  },
  {
   "cell_type": "code",
   "execution_count": 8,
   "id": "2c790dce",
   "metadata": {},
   "outputs": [
    {
     "data": {
      "text/plain": [
       "'zx%20c'"
      ]
     },
     "execution_count": 8,
     "metadata": {},
     "output_type": "execute_result"
    }
   ],
   "source": [
    "urlify('zx c')"
   ]
  },
  {
   "cell_type": "code",
   "execution_count": 9,
   "id": "19f0f9e0",
   "metadata": {},
   "outputs": [],
   "source": [
    "def urlify2(string):\n",
    "    return string.replace(' ', '%20')"
   ]
  },
  {
   "cell_type": "code",
   "execution_count": 10,
   "id": "3e0a500b",
   "metadata": {},
   "outputs": [
    {
     "data": {
      "text/plain": [
       "'zx%20c'"
      ]
     },
     "execution_count": 10,
     "metadata": {},
     "output_type": "execute_result"
    }
   ],
   "source": [
    "urlify2('zx c')"
   ]
  },
  {
   "cell_type": "markdown",
   "id": "70b11176",
   "metadata": {},
   "source": [
    "### One Away: \n",
    "There are three types of edits that can be performed on strings: insert a character, remove a character, or replace a character. Given two strings, write a function to check if they are one edit (or zero edits) away.\n",
    "\n",
    "EXAMPLE\n",
    "pale, pie -> true\n",
    "pales, pale -> true \n",
    "pale, bale -> true \n",
    "pale, bake -> false"
   ]
  },
  {
   "cell_type": "code",
   "execution_count": 11,
   "id": "67b92ec3",
   "metadata": {},
   "outputs": [],
   "source": [
    "def one_away(str1, str2):\n",
    "    if abs(len(str1) - len(str2)) > 1:\n",
    "        return False\n",
    "    elif len(str1) == len(str2):\n",
    "        return char_replaced(str1, str2)\n",
    "    elif len(str1) > len(str2):\n",
    "        return char_removed(str1, str2)\n",
    "    elif len(str1) < len(str2):\n",
    "        return char_insert(str1, str2)        \n",
    "        \n",
    "        \n",
    "def char_replaced(str1, str2):\n",
    "    counter = 0\n",
    "    for i in range(len(str1)):\n",
    "        if str1[i] != str2[i]:\n",
    "            counter += 1\n",
    "    if counter <= 1:\n",
    "        return True\n",
    "    else:\n",
    "        return False\n",
    "\n",
    "    \n",
    "def char_removed(str1, str2):\n",
    "    i = 0\n",
    "    j = 0\n",
    "    if str1[i] == str2[j]:\n",
    "        i = i+1\n",
    "        j = j+1\n",
    "    elif str1[i] != str2[j]:\n",
    "        i += 1\n",
    "        if str1[i] == str2[j]:\n",
    "            i +=1\n",
    "            j +=1\n",
    "        else:\n",
    "            return False\n",
    "    return True\n",
    "\n",
    "    \n",
    "def char_insert(str1, str2):\n",
    "    i = 0\n",
    "    j = 0\n",
    "    if str2[i] == str1[j]:\n",
    "        i = i+1\n",
    "        j = j+1\n",
    "    elif str2[i] != str1[j]:\n",
    "        i += 1\n",
    "        if str2[i] == str1[j]:\n",
    "            i +=1\n",
    "            j +=1\n",
    "        else:\n",
    "            return False\n",
    "    return True"
   ]
  },
  {
   "cell_type": "code",
   "execution_count": 12,
   "id": "5fd634d1",
   "metadata": {},
   "outputs": [
    {
     "data": {
      "text/plain": [
       "True"
      ]
     },
     "execution_count": 12,
     "metadata": {},
     "output_type": "execute_result"
    }
   ],
   "source": [
    "one_away('alexa', 'alex')"
   ]
  },
  {
   "cell_type": "markdown",
   "id": "28322c03",
   "metadata": {},
   "source": [
    "### String Compression: \n",
    "Implement a method to perform basic string compression using the counts of repeated characters. For example, the string aabcccccaaa would become a2blc5a3, If the \"compressed\" string would not become smaller than the original string, your method should return the original string. You can assume the string has only uppercase and lowercase letters (a - z)."
   ]
  },
  {
   "cell_type": "code",
   "execution_count": 13,
   "id": "c68264c6",
   "metadata": {},
   "outputs": [],
   "source": [
    "def str_comp(strng):\n",
    "    strng = strng.lower()\n",
    "    output = strng[0]\n",
    "    counter = 0\n",
    "    for i in range(len(strng)-1):\n",
    "        if strng[i+1] == strng[i]:\n",
    "            i += 1\n",
    "            counter += 1\n",
    "        else:\n",
    "            output = output + str(counter+1)\n",
    "            counter = 0\n",
    "            output = output + strng[i+1]\n",
    "            \n",
    "    if len(output) <= len(strng):\n",
    "        return output\n",
    "    else:\n",
    "        return strng"
   ]
  },
  {
   "cell_type": "code",
   "execution_count": 14,
   "id": "645a2eec",
   "metadata": {},
   "outputs": [
    {
     "data": {
      "text/plain": [
       "'a3l1e1x'"
      ]
     },
     "execution_count": 14,
     "metadata": {},
     "output_type": "execute_result"
    }
   ],
   "source": [
    "str_comp('aaalexxxxx')"
   ]
  },
  {
   "cell_type": "code",
   "execution_count": 15,
   "id": "dbf1418c",
   "metadata": {},
   "outputs": [],
   "source": [
    "def compress_string(string):\n",
    "    compressed = []\n",
    "    counter = 0\n",
    "\n",
    "    for i in range(len(string)):  \n",
    "        if i != 0 and string[i] != string[i - 1]:\n",
    "            compressed.append(string[i - 1] + str(counter))\n",
    "            counter = 0\n",
    "        counter += 1\n",
    "\n",
    "    # add last repeated character\n",
    "    if counter:\n",
    "        compressed.append(string[-1] + str(counter))\n",
    "\n",
    "    # returns original string if compressed string isn't smaller\n",
    "    return min(string, \"\".join(compressed), key=len)"
   ]
  },
  {
   "cell_type": "code",
   "execution_count": 16,
   "id": "d7f861a7",
   "metadata": {},
   "outputs": [
    {
     "data": {
      "text/plain": [
       "'a3l1e1x7'"
      ]
     },
     "execution_count": 16,
     "metadata": {},
     "output_type": "execute_result"
    }
   ],
   "source": [
    "compress_string('aaalexxxxxxx')"
   ]
  },
  {
   "cell_type": "markdown",
   "id": "b33322e0",
   "metadata": {},
   "source": [
    "### String Rotation: \n",
    "Assume you have a method is_substring which checks if one word is a substring of another. Given two strings, si and s2, write code to check if s2 is a rotation of s1 using only one call to is_substring [e.g., \"waterbottle\" is a rotation of \"erbottlewat\")"
   ]
  },
  {
   "cell_type": "code",
   "execution_count": 17,
   "id": "174ca95b",
   "metadata": {},
   "outputs": [],
   "source": [
    "def str_rot(s1, s2):\n",
    "    if len(s1) != len(s2):\n",
    "        return False\n",
    "    elif s2 in s1*2:\n",
    "        return True\n",
    "    else:\n",
    "        return False "
   ]
  },
  {
   "cell_type": "code",
   "execution_count": 18,
   "id": "7e30606a",
   "metadata": {},
   "outputs": [
    {
     "data": {
      "text/plain": [
       "True"
      ]
     },
     "execution_count": 18,
     "metadata": {},
     "output_type": "execute_result"
    }
   ],
   "source": [
    "str_rot('zxcvbnm', 'cvbnmzx')"
   ]
  },
  {
   "cell_type": "markdown",
   "id": "6735f1b4",
   "metadata": {},
   "source": [
    "### FizzBuzz\n",
    "Write a function that takes an integer as an input, if it is divisible by 15 return FizzBuzz, return Fizz if it is divisible by 3, and return Buzz if it is divisible by 5. "
   ]
  },
  {
   "cell_type": "code",
   "execution_count": 19,
   "id": "8304ee56",
   "metadata": {},
   "outputs": [],
   "source": [
    "def fizzbuzz(n):\n",
    "    if n%15 == 0:\n",
    "        print(\"FizzBuzz\")\n",
    "    elif n%3 == 0:\n",
    "        print(\"Fizz\")\n",
    "    elif n%5 == 0:\n",
    "        print(\"Buzz\")\n",
    "    else:\n",
    "        return n"
   ]
  },
  {
   "cell_type": "code",
   "execution_count": 20,
   "id": "1e0cf4b5",
   "metadata": {},
   "outputs": [
    {
     "name": "stdout",
     "output_type": "stream",
     "text": [
      "Fizz\n"
     ]
    }
   ],
   "source": [
    "fizzbuzz(-3)"
   ]
  },
  {
   "cell_type": "markdown",
   "id": "ac8319d8",
   "metadata": {},
   "source": [
    "### Reverse an Integer\n",
    "Write an algorithm that takes an integer and return another integer with the opposite order. Note that zeros on the left side should not be printed!"
   ]
  },
  {
   "cell_type": "code",
   "execution_count": 22,
   "id": "2cc02d47",
   "metadata": {},
   "outputs": [],
   "source": [
    "def rev(n):\n",
    "    if n not in range(-2**31, 2**31):\n",
    "        return 0\n",
    "    if n < 0:\n",
    "        sign = -1\n",
    "    else:\n",
    "        sign = 1\n",
    "    n = str(abs(n))\n",
    "    rev = n[::-1]\n",
    "    return sign * int(rev)"
   ]
  },
  {
   "cell_type": "code",
   "execution_count": 23,
   "id": "ccdbe983",
   "metadata": {},
   "outputs": [
    {
     "data": {
      "text/plain": [
       "-3201"
      ]
     },
     "execution_count": 23,
     "metadata": {},
     "output_type": "execute_result"
    }
   ],
   "source": [
    "rev(-10230)"
   ]
  },
  {
   "cell_type": "code",
   "execution_count": 24,
   "id": "ace63ecb",
   "metadata": {},
   "outputs": [],
   "source": [
    "def rev2(n):\n",
    "    if n not in range(-2**31, 2**31):\n",
    "        return 0\n",
    "    \n",
    "    # Getting rid of the sign\n",
    "    if n < 0:\n",
    "        sign = -1\n",
    "    else:\n",
    "        sign = 1\n",
    "    n = abs(n)\n",
    "    \n",
    "    # Removing tailing 0s\n",
    "    n_stripped = int(str(n).rstrip('0'))\n",
    "    \n",
    "    # Reversing\n",
    "    n_reversed = 0\n",
    "    \n",
    "    while n_stripped > 0:\n",
    "        remainder = n_stripped % 10\n",
    "        n_reversed = n_reversed*10 + remainder\n",
    "        n_stripped = n_stripped // 10\n",
    "        \n",
    "    return sign * n_reversed"
   ]
  },
  {
   "cell_type": "code",
   "execution_count": 25,
   "id": "d405b4a3",
   "metadata": {},
   "outputs": [
    {
     "data": {
      "text/plain": [
       "-3201"
      ]
     },
     "execution_count": 25,
     "metadata": {},
     "output_type": "execute_result"
    }
   ],
   "source": [
    "rev2(-10230)"
   ]
  },
  {
   "cell_type": "markdown",
   "id": "a0df7a35",
   "metadata": {},
   "source": [
    "### Unique Char\n"
   ]
  },
  {
   "cell_type": "code",
   "execution_count": 26,
   "id": "2a00e756",
   "metadata": {},
   "outputs": [],
   "source": [
    "def unique_char(s):\n",
    "    # lower case\n",
    "    s = s.lower()\n",
    "    \n",
    "    #count the repetition\n",
    "    counts = {}\n",
    "    for char in s:\n",
    "        if char not in counts:\n",
    "            counts[char] = 1\n",
    "        else:\n",
    "            counts[char] += 1\n",
    "            \n",
    "    for i in range(len(s)):\n",
    "        if counts[s[i]] == 1:\n",
    "            return i\n",
    "    return -1"
   ]
  },
  {
   "cell_type": "code",
   "execution_count": 27,
   "id": "1e41b759",
   "metadata": {},
   "outputs": [
    {
     "data": {
      "text/plain": [
       "-1"
      ]
     },
     "execution_count": 27,
     "metadata": {},
     "output_type": "execute_result"
    }
   ],
   "source": [
    "unique_char('zzxxccvvbb')"
   ]
  },
  {
   "cell_type": "markdown",
   "id": "f5730532",
   "metadata": {},
   "source": [
    "### Defanging\n"
   ]
  },
  {
   "cell_type": "code",
   "execution_count": 28,
   "id": "301ece95",
   "metadata": {},
   "outputs": [],
   "source": [
    "def defanging(s):\n",
    "    defanged = ''\n",
    "    for char in s:\n",
    "        if char == '.':\n",
    "            defanged +=  \"[.]\"\n",
    "        else:\n",
    "            defanged += char\n",
    "    return defanged"
   ]
  },
  {
   "cell_type": "code",
   "execution_count": 29,
   "id": "b58d8db8",
   "metadata": {},
   "outputs": [
    {
     "data": {
      "text/plain": [
       "'127[.]0[.]0[.]1'"
      ]
     },
     "execution_count": 29,
     "metadata": {},
     "output_type": "execute_result"
    }
   ],
   "source": [
    "defanging('127.0.0.1')"
   ]
  },
  {
   "cell_type": "code",
   "execution_count": 30,
   "id": "527c9c5e",
   "metadata": {},
   "outputs": [],
   "source": [
    "def defanging2(s):\n",
    "    splited = s.split('.')\n",
    "    return '[.]'.join(splited)"
   ]
  },
  {
   "cell_type": "code",
   "execution_count": 31,
   "id": "b7d9aac5",
   "metadata": {},
   "outputs": [
    {
     "data": {
      "text/plain": [
       "'127[.]0[.]0[.]1'"
      ]
     },
     "execution_count": 31,
     "metadata": {},
     "output_type": "execute_result"
    }
   ],
   "source": [
    "defanging2('127.0.0.1')"
   ]
  },
  {
   "cell_type": "markdown",
   "id": "8559ece7",
   "metadata": {},
   "source": [
    "### Anagram\n"
   ]
  },
  {
   "cell_type": "code",
   "execution_count": 32,
   "id": "1ea92efc",
   "metadata": {},
   "outputs": [],
   "source": [
    "def anagram(s1, s2):\n",
    "    if len(s1) != len(s2):\n",
    "        return False\n",
    "    s1, s2 = sorted(s1), sorted(s2)\n",
    "    for i in range(len(s1)):\n",
    "        if s1[i] != s2[i]:\n",
    "            return False\n",
    "    return True"
   ]
  },
  {
   "cell_type": "code",
   "execution_count": 33,
   "id": "f7fffc6a",
   "metadata": {},
   "outputs": [
    {
     "data": {
      "text/plain": [
       "True"
      ]
     },
     "execution_count": 33,
     "metadata": {},
     "output_type": "execute_result"
    }
   ],
   "source": [
    "anagram('zxcvbnm', 'mnbvcxz')"
   ]
  },
  {
   "cell_type": "code",
   "execution_count": 34,
   "id": "e09c26a9",
   "metadata": {},
   "outputs": [
    {
     "data": {
      "text/plain": [
       "True"
      ]
     },
     "execution_count": 34,
     "metadata": {},
     "output_type": "execute_result"
    }
   ],
   "source": [
    "anagram('zxcvvbnm', 'vmnbvcxz')"
   ]
  },
  {
   "cell_type": "markdown",
   "id": "1da17169",
   "metadata": {},
   "source": [
    "### Palindrome\n"
   ]
  },
  {
   "cell_type": "code",
   "execution_count": 35,
   "id": "802d1e2d",
   "metadata": {},
   "outputs": [],
   "source": [
    "def palindrome(s):\n",
    "    s = s.lower()\n",
    "    for i in range(len(s)):\n",
    "        if s[i] != s[len(s)-i-1]:\n",
    "            return False\n",
    "    return True"
   ]
  },
  {
   "cell_type": "code",
   "execution_count": 36,
   "id": "e1e5822f",
   "metadata": {},
   "outputs": [
    {
     "data": {
      "text/plain": [
       "True"
      ]
     },
     "execution_count": 36,
     "metadata": {},
     "output_type": "execute_result"
    }
   ],
   "source": [
    "palindrome('Bob')"
   ]
  },
  {
   "cell_type": "markdown",
   "id": "0f387916",
   "metadata": {},
   "source": [
    "### Factorial\n"
   ]
  },
  {
   "cell_type": "code",
   "execution_count": 37,
   "id": "cff31746",
   "metadata": {},
   "outputs": [],
   "source": [
    "def factorial(x):\n",
    "    if x < 0:\n",
    "        return -1\n",
    "    if x == 0:\n",
    "        return 1\n",
    "    if x == 1:\n",
    "        return 1\n",
    "    if x > 1:\n",
    "        return x * factorial(x-1)"
   ]
  },
  {
   "cell_type": "code",
   "execution_count": 38,
   "id": "c82d1d38",
   "metadata": {},
   "outputs": [
    {
     "data": {
      "text/plain": [
       "120"
      ]
     },
     "execution_count": 38,
     "metadata": {},
     "output_type": "execute_result"
    }
   ],
   "source": [
    "factorial(5)"
   ]
  },
  {
   "cell_type": "code",
   "execution_count": 39,
   "id": "cb8c779b",
   "metadata": {},
   "outputs": [
    {
     "data": {
      "text/plain": [
       "-1"
      ]
     },
     "execution_count": 39,
     "metadata": {},
     "output_type": "execute_result"
    }
   ],
   "source": [
    "factorial(-2)"
   ]
  },
  {
   "cell_type": "markdown",
   "id": "62d8f3c4",
   "metadata": {},
   "source": [
    "### Goal Parser"
   ]
  },
  {
   "cell_type": "code",
   "execution_count": 40,
   "id": "65663796",
   "metadata": {},
   "outputs": [],
   "source": [
    "def parser(command):\n",
    "    return command.replace('()', 'o').replace('(al)', 'al')"
   ]
  },
  {
   "cell_type": "code",
   "execution_count": 41,
   "id": "88164bb2",
   "metadata": {},
   "outputs": [
    {
     "data": {
      "text/plain": [
       "'Goal'"
      ]
     },
     "execution_count": 41,
     "metadata": {},
     "output_type": "execute_result"
    }
   ],
   "source": [
    "parser('G()(al)')"
   ]
  },
  {
   "cell_type": "code",
   "execution_count": 42,
   "id": "60293c40",
   "metadata": {},
   "outputs": [],
   "source": [
    "def parser2(command):\n",
    "    # Dic of accepted characters\n",
    "    dic = {'G': 'G', '()': 'o', '(al)': 'al'}\n",
    "    \n",
    "    # loop through the command\n",
    "    parsed = ''\n",
    "    temp = ''\n",
    "    for char in command:\n",
    "        temp += char\n",
    "        if temp in dic:\n",
    "            parsed += dic[temp]\n",
    "            temp = ''\n",
    "    return parsed"
   ]
  },
  {
   "cell_type": "code",
   "execution_count": 43,
   "id": "e66e7107",
   "metadata": {},
   "outputs": [
    {
     "data": {
      "text/plain": [
       "'Gooal'"
      ]
     },
     "execution_count": 43,
     "metadata": {},
     "output_type": "execute_result"
    }
   ],
   "source": [
    "parser2('G()()(al)')"
   ]
  },
  {
   "cell_type": "markdown",
   "id": "e918b9dc",
   "metadata": {},
   "source": [
    "### Destination City\n"
   ]
  },
  {
   "cell_type": "code",
   "execution_count": 44,
   "id": "b2f1757e",
   "metadata": {},
   "outputs": [],
   "source": [
    "def destination(arr):\n",
    "    paths = np.array(arr)\n",
    "    path_dict = {}\n",
    "    for i in range(len(paths)):\n",
    "        path_dict[paths[i,:][0]] = paths[i,:][1]\n",
    "    for source in path_dict:\n",
    "        if path_dict[source] not in path_dict:\n",
    "            return path_dict[source]"
   ]
  },
  {
   "cell_type": "code",
   "execution_count": 45,
   "id": "cfc4d8bd",
   "metadata": {},
   "outputs": [
    {
     "data": {
      "text/plain": [
       "'Z'"
      ]
     },
     "execution_count": 45,
     "metadata": {},
     "output_type": "execute_result"
    }
   ],
   "source": [
    "destination([[\"B\", \"C\"], [\"D\", \"B\"], [\"C\", \"A\"], [\"A\", \"Z\"]])"
   ]
  },
  {
   "cell_type": "code",
   "execution_count": 46,
   "id": "481741de",
   "metadata": {},
   "outputs": [],
   "source": [
    "def dest2(paths):\n",
    "    path_dict = {}\n",
    "    for path in paths:\n",
    "        source, destination = path\n",
    "        path_dict[source] = destination\n",
    "    for source in path_dict:\n",
    "        if path_dict[source] not in path_dict:\n",
    "            return path_dict[source]"
   ]
  },
  {
   "cell_type": "code",
   "execution_count": 47,
   "id": "b4c33ce4",
   "metadata": {},
   "outputs": [
    {
     "data": {
      "text/plain": [
       "'Z'"
      ]
     },
     "execution_count": 47,
     "metadata": {},
     "output_type": "execute_result"
    }
   ],
   "source": [
    "dest2([[\"B\", \"C\"], [\"D\", \"B\"], [\"C\", \"A\"], [\"A\", \"Z\"]])"
   ]
  },
  {
   "cell_type": "markdown",
   "id": "86c1ec8b",
   "metadata": {},
   "source": [
    "### Smaller Numbers"
   ]
  },
  {
   "cell_type": "code",
   "execution_count": 48,
   "id": "1d5af4e6",
   "metadata": {},
   "outputs": [],
   "source": [
    "def smaller(nums):\n",
    "    output = []\n",
    "    for num in nums:\n",
    "        counter = 0\n",
    "        for i in range(len(nums)):\n",
    "            if nums[i] < num:\n",
    "                counter += 1\n",
    "        output.append(counter)\n",
    "    return output"
   ]
  },
  {
   "cell_type": "code",
   "execution_count": 49,
   "id": "5db48845",
   "metadata": {},
   "outputs": [
    {
     "data": {
      "text/plain": [
       "[4, 0, 1, 1, 3]"
      ]
     },
     "execution_count": 49,
     "metadata": {},
     "output_type": "execute_result"
    }
   ],
   "source": [
    "smaller([8, 1, 2, 2,3])"
   ]
  },
  {
   "cell_type": "markdown",
   "id": "d285b78b",
   "metadata": {},
   "source": [
    "### Binary Search"
   ]
  },
  {
   "cell_type": "code",
   "execution_count": 50,
   "id": "a893974b",
   "metadata": {},
   "outputs": [],
   "source": [
    "def bi_search(nums, target):\n",
    "    for i, num in enumerate(nums):\n",
    "        if target == num:\n",
    "            return i\n",
    "    return -1"
   ]
  },
  {
   "cell_type": "code",
   "execution_count": 51,
   "id": "f862d598",
   "metadata": {},
   "outputs": [
    {
     "data": {
      "text/plain": [
       "4"
      ]
     },
     "execution_count": 51,
     "metadata": {},
     "output_type": "execute_result"
    }
   ],
   "source": [
    "bi_search([-1,0,3,5,9,12], 9)"
   ]
  },
  {
   "cell_type": "code",
   "execution_count": 52,
   "id": "9c0288ba",
   "metadata": {},
   "outputs": [
    {
     "data": {
      "text/plain": [
       "-1"
      ]
     },
     "execution_count": 52,
     "metadata": {},
     "output_type": "execute_result"
    }
   ],
   "source": [
    "bi_search([-1,0,3,5,9, 12], 2)"
   ]
  },
  {
   "cell_type": "markdown",
   "id": "6cc45bda",
   "metadata": {},
   "source": [
    "### Longest Palindrome"
   ]
  },
  {
   "cell_type": "code",
   "execution_count": 53,
   "id": "c1aa66de",
   "metadata": {},
   "outputs": [],
   "source": [
    "def longest_pal(s):\n",
    "    occurance = {}\n",
    "    for char in s:\n",
    "        occurance[char] = occurance.get(char,0) + 1\n",
    "    #return occurance\n",
    "    length = 0\n",
    "    flag = 0\n",
    "    for item in occurance:\n",
    "        length += (occurance[item] // 2) * 2\n",
    "        if (occurance[item] % 2)==1:\n",
    "            flag = 1\n",
    "    if length == 0:\n",
    "        return 0\n",
    "    else:\n",
    "        return length + flag"
   ]
  },
  {
   "cell_type": "code",
   "execution_count": 54,
   "id": "879c9993",
   "metadata": {},
   "outputs": [
    {
     "data": {
      "text/plain": [
       "7"
      ]
     },
     "execution_count": 54,
     "metadata": {},
     "output_type": "execute_result"
    }
   ],
   "source": [
    "longest_pal(\"abccccdd\")"
   ]
  },
  {
   "cell_type": "code",
   "execution_count": 55,
   "id": "0208529d",
   "metadata": {},
   "outputs": [
    {
     "data": {
      "text/plain": [
       "0"
      ]
     },
     "execution_count": 55,
     "metadata": {},
     "output_type": "execute_result"
    }
   ],
   "source": [
    "longest_pal(\"Bb\")"
   ]
  },
  {
   "cell_type": "markdown",
   "id": "9d1b356c",
   "metadata": {},
   "source": [
    "### Max Number of Coins"
   ]
  },
  {
   "cell_type": "code",
   "execution_count": 56,
   "id": "7abee98b",
   "metadata": {},
   "outputs": [],
   "source": [
    "def max_coins(piles):\n",
    "    sorted_piles = sorted(piles, reverse=True)\n",
    "    num_iterations = len(piles) // 3\n",
    "    collected_coins = 0\n",
    "    for n in range(num_iterations):\n",
    "        collected_coins += sorted_piles[2*n+1]\n",
    "    return collected_coins"
   ]
  },
  {
   "cell_type": "code",
   "execution_count": 57,
   "id": "100bd59f",
   "metadata": {},
   "outputs": [
    {
     "data": {
      "text/plain": [
       "4"
      ]
     },
     "execution_count": 57,
     "metadata": {},
     "output_type": "execute_result"
    }
   ],
   "source": [
    "max_coins([2,4,5])"
   ]
  },
  {
   "cell_type": "code",
   "execution_count": 58,
   "id": "5ff6e34f",
   "metadata": {},
   "outputs": [
    {
     "data": {
      "text/plain": [
       "9"
      ]
     },
     "execution_count": 58,
     "metadata": {},
     "output_type": "execute_result"
    }
   ],
   "source": [
    "max_coins([2,4,1,2,7,8])"
   ]
  },
  {
   "cell_type": "code",
   "execution_count": 59,
   "id": "114a2c98",
   "metadata": {},
   "outputs": [
    {
     "data": {
      "text/plain": [
       "18"
      ]
     },
     "execution_count": 59,
     "metadata": {},
     "output_type": "execute_result"
    }
   ],
   "source": [
    "max_coins([9,8,7,6,5,1,2,3,4])"
   ]
  },
  {
   "cell_type": "markdown",
   "id": "bbd00f90",
   "metadata": {},
   "source": [
    "### Second biggest"
   ]
  },
  {
   "cell_type": "code",
   "execution_count": 60,
   "id": "ae52e0f7",
   "metadata": {},
   "outputs": [],
   "source": [
    "def second_largest(lst):\n",
    "    if len(lst) < 2:\n",
    "        print('None!')\n",
    "    else:\n",
    "        return(sorted(set(lst), reverse=True)[1])"
   ]
  },
  {
   "cell_type": "code",
   "execution_count": null,
   "id": "cb87f2f5",
   "metadata": {},
   "outputs": [],
   "source": [
    "a = [4, 7, 7, 6]\n",
    "second_largest(a)"
   ]
  },
  {
   "cell_type": "code",
   "execution_count": 61,
   "id": "d3c108a2",
   "metadata": {},
   "outputs": [],
   "source": [
    "def sec_largest(numbers):\n",
    "    # remove duplicates\n",
    "    unique_numbers = []\n",
    "    for number in numbers:\n",
    "        if number not in unique_numbers:\n",
    "            unique_numbers.append(number)\n",
    "    # sort the numbers\n",
    "    unique_numbers.sort()\n",
    "    return unique_numbers[-2]"
   ]
  },
  {
   "cell_type": "code",
   "execution_count": 62,
   "id": "55086e63",
   "metadata": {},
   "outputs": [
    {
     "data": {
      "text/plain": [
       "6"
      ]
     },
     "execution_count": 62,
     "metadata": {},
     "output_type": "execute_result"
    }
   ],
   "source": [
    "sec_largest([3, 4, 1, 6, 7, 7])"
   ]
  },
  {
   "cell_type": "markdown",
   "id": "845e7a12",
   "metadata": {},
   "source": [
    "### Reverse vowels in an string"
   ]
  },
  {
   "cell_type": "code",
   "execution_count": 63,
   "id": "9532cfbb",
   "metadata": {},
   "outputs": [],
   "source": [
    "def rev_vowel(string):\n",
    "    vowels = ['a', 'e', 'o', 'i', 'u']\n",
    "    vowel_chars = []\n",
    "    indx = []\n",
    "    for idx, char in enumerate(string):\n",
    "        if char.lower() in vowels:\n",
    "            vowel_chars.append(char.lower())\n",
    "            indx.append(idx)\n",
    "    rev_indx = indx[::-1]\n",
    "    vow_dict = {indx[i]: rev_indx[i] for i in range(len(indx))}\n",
    "    reversed_vowel = ''\n",
    "    for idx, char in enumerate(string):\n",
    "        if char not in vowels:\n",
    "            reversed_vowel = reversed_vowel + char\n",
    "        else:\n",
    "            reversed_vowel = reversed_vowel + string[vow_dict[idx]]\n",
    "    return reversed_vowel"
   ]
  },
  {
   "cell_type": "code",
   "execution_count": 64,
   "id": "89d37242",
   "metadata": {},
   "outputs": [
    {
     "data": {
      "text/plain": [
       "'leotcede'"
      ]
     },
     "execution_count": 64,
     "metadata": {},
     "output_type": "execute_result"
    }
   ],
   "source": [
    "rev_vowel('leetcode')"
   ]
  },
  {
   "cell_type": "markdown",
   "id": "5252bb82",
   "metadata": {},
   "source": [
    "### Longest Palindrome"
   ]
  },
  {
   "cell_type": "code",
   "execution_count": 65,
   "id": "a1b0f423",
   "metadata": {},
   "outputs": [],
   "source": [
    "def longest_pal(string):\n",
    "    def expand(left: int, right: int):\n",
    "        while left >= 0 and right < len(string) and string[left] == string[right]:\n",
    "            left -= 1\n",
    "            right += 1\n",
    "        return string[left+1:right]\n",
    "    \n",
    "    res = ''\n",
    "    for i in range(len(string)):\n",
    "        res = max(res, expand(i,i), expand(i,i+1), key=len)\n",
    "    return res"
   ]
  },
  {
   "cell_type": "code",
   "execution_count": 66,
   "id": "4d4bfd8e",
   "metadata": {},
   "outputs": [
    {
     "data": {
      "text/plain": [
       "'sddds'"
      ]
     },
     "execution_count": 66,
     "metadata": {},
     "output_type": "execute_result"
    }
   ],
   "source": [
    "longest_pal('assdddsa')"
   ]
  },
  {
   "cell_type": "markdown",
   "id": "22906478",
   "metadata": {},
   "source": [
    "### Single occurance integer"
   ]
  },
  {
   "cell_type": "code",
   "execution_count": 67,
   "id": "10ff1326",
   "metadata": {},
   "outputs": [],
   "source": [
    "def single(arry):\n",
    "    count_dict = {}\n",
    "    for item in arry:\n",
    "        count_dict[item] = count_dict.get(item, 0) + 1\n",
    "    # return count_dict\n",
    "    for key in count_dict:\n",
    "        if  count_dict[key]== 1:\n",
    "            return key"
   ]
  },
  {
   "cell_type": "code",
   "execution_count": 68,
   "id": "aaac01a3",
   "metadata": {},
   "outputs": [
    {
     "data": {
      "text/plain": [
       "3"
      ]
     },
     "execution_count": 68,
     "metadata": {},
     "output_type": "execute_result"
    }
   ],
   "source": [
    "single([1, 2, 3, 2, 1])"
   ]
  },
  {
   "cell_type": "markdown",
   "id": "a6f78bd2",
   "metadata": {},
   "source": [
    "### Remove duplicates"
   ]
  },
  {
   "cell_type": "code",
   "execution_count": 69,
   "id": "3e0115e3",
   "metadata": {},
   "outputs": [],
   "source": [
    "def remove_duplicates(strings):\n",
    "    #remove duplicates\n",
    "    new_list = []\n",
    "    for string in strings:\n",
    "        if string not in new_list:\n",
    "            new_list.append(string)\n",
    "    return new_list"
   ]
  },
  {
   "cell_type": "code",
   "execution_count": 70,
   "id": "f61e5ab8",
   "metadata": {},
   "outputs": [
    {
     "data": {
      "text/plain": [
       "['a', 's', 'd', 'x']"
      ]
     },
     "execution_count": 70,
     "metadata": {},
     "output_type": "execute_result"
    }
   ],
   "source": [
    "s = ['a', 's', 'd', 'a', 'd', 'x']\n",
    "remove_duplicates(s)"
   ]
  },
  {
   "cell_type": "markdown",
   "id": "c70510ed",
   "metadata": {},
   "source": [
    "### Switch key & value in a Dict"
   ]
  },
  {
   "cell_type": "code",
   "execution_count": 71,
   "id": "550fb5eb",
   "metadata": {},
   "outputs": [],
   "source": [
    "def switch_dict(d):\n",
    "    new_d = {}\n",
    "    for key in d:\n",
    "        new_d[d[key]] = key\n",
    "    return new_d"
   ]
  },
  {
   "cell_type": "code",
   "execution_count": 72,
   "id": "d2baf3ba",
   "metadata": {},
   "outputs": [
    {
     "data": {
      "text/plain": [
       "{'Ali': 'name', 'DS': 'job'}"
      ]
     },
     "execution_count": 72,
     "metadata": {},
     "output_type": "execute_result"
    }
   ],
   "source": [
    "d = {'name': 'Ali', 'job': 'DS'}\n",
    "switch_dict(d)"
   ]
  },
  {
   "cell_type": "code",
   "execution_count": 73,
   "id": "5fd5678a",
   "metadata": {},
   "outputs": [],
   "source": [
    "def switch_dict2(d):\n",
    "    return {value: key for key, value in d.items()}"
   ]
  },
  {
   "cell_type": "code",
   "execution_count": 74,
   "id": "7f172be0",
   "metadata": {},
   "outputs": [
    {
     "data": {
      "text/plain": [
       "{'Ali': 'name', 'DS': 'job'}"
      ]
     },
     "execution_count": 74,
     "metadata": {},
     "output_type": "execute_result"
    }
   ],
   "source": [
    "switch_dict2(d)"
   ]
  },
  {
   "cell_type": "markdown",
   "id": "7a5c2e01",
   "metadata": {},
   "source": [
    "### Count occurance"
   ]
  },
  {
   "cell_type": "code",
   "execution_count": 75,
   "id": "e1214ee5",
   "metadata": {},
   "outputs": [],
   "source": [
    "def count_occurrences(numbers):\n",
    "    count_dict = {}\n",
    "    for num in numbers:\n",
    "        count_dict[num] = count_dict.get(num, 0) + 1\n",
    "    return count_dict"
   ]
  },
  {
   "cell_type": "code",
   "execution_count": 76,
   "id": "d037106c",
   "metadata": {},
   "outputs": [
    {
     "data": {
      "text/plain": [
       "{1: 1, 2: 3, 5: 1, 3: 2, 6: 1, 4: 1}"
      ]
     },
     "execution_count": 76,
     "metadata": {},
     "output_type": "execute_result"
    }
   ],
   "source": [
    "num = [1, 2, 2, 5, 3, 6, 4, 2, 3]\n",
    "count_occurrences(num)"
   ]
  },
  {
   "cell_type": "markdown",
   "id": "16f76fd2",
   "metadata": {},
   "source": [
    "### Find median"
   ]
  },
  {
   "cell_type": "code",
   "execution_count": 77,
   "id": "c543b1ec",
   "metadata": {},
   "outputs": [],
   "source": [
    "def find_median(numbers):\n",
    "    # find location of the median\n",
    "    length = len(numbers)\n",
    "    if length % 2 == 0:\n",
    "        loc = (length / 2) - 1\n",
    "    else:\n",
    "        loc = length // 2\n",
    "    #find the median\n",
    "    median = sorted(numbers)[loc]\n",
    "    return median"
   ]
  },
  {
   "cell_type": "code",
   "execution_count": 78,
   "id": "6ba5aaf8",
   "metadata": {},
   "outputs": [
    {
     "data": {
      "text/plain": [
       "4"
      ]
     },
     "execution_count": 78,
     "metadata": {},
     "output_type": "execute_result"
    }
   ],
   "source": [
    "n = [1,3,4,5,4,6,7,3,2,5,9]\n",
    "find_median(n)"
   ]
  },
  {
   "cell_type": "markdown",
   "id": "a0e4cec4",
   "metadata": {},
   "source": [
    "### Add up"
   ]
  },
  {
   "cell_type": "code",
   "execution_count": 79,
   "id": "a4814872",
   "metadata": {},
   "outputs": [],
   "source": [
    "def two_sum(numbers, target):\n",
    "    flag = 0\n",
    "    for num in numbers:\n",
    "        if (target - num) in numbers:\n",
    "            flag = 1\n",
    "            \n",
    "    if flag == 1:\n",
    "        return True\n",
    "    else:\n",
    "        return False"
   ]
  },
  {
   "cell_type": "code",
   "execution_count": 80,
   "id": "e8e74c02",
   "metadata": {},
   "outputs": [
    {
     "data": {
      "text/plain": [
       "True"
      ]
     },
     "execution_count": 80,
     "metadata": {},
     "output_type": "execute_result"
    }
   ],
   "source": [
    "numbers = [1,3,4,7]\n",
    "target = 5\n",
    "two_sum(numbers, target)"
   ]
  },
  {
   "cell_type": "markdown",
   "id": "68e80c2e",
   "metadata": {},
   "source": [
    "### Most frequent"
   ]
  },
  {
   "cell_type": "code",
   "execution_count": 81,
   "id": "62a4dbda",
   "metadata": {},
   "outputs": [],
   "source": [
    "def most_frequent(numbers):\n",
    "    frequency_dict = {}\n",
    "    for num in numbers:\n",
    "        frequency_dict[num] = frequency_dict.get(num, 0) + 1\n",
    "        \n",
    "    inverse = [(value, key) for key, value in frequency_dict.items()]\n",
    "    return max(inverse)[1]"
   ]
  },
  {
   "cell_type": "code",
   "execution_count": 82,
   "id": "52e637dd",
   "metadata": {},
   "outputs": [
    {
     "data": {
      "text/plain": [
       "3"
      ]
     },
     "execution_count": 82,
     "metadata": {},
     "output_type": "execute_result"
    }
   ],
   "source": [
    "most_frequent([1,3,2,4,3,3,5,4,3,3,9,3])"
   ]
  },
  {
   "cell_type": "code",
   "execution_count": 83,
   "id": "bd55e241",
   "metadata": {},
   "outputs": [],
   "source": [
    "def most_frequent2(numbers):\n",
    "    frequency_dict = {}\n",
    "    for num in numbers:\n",
    "        frequency_dict[num] = frequency_dict.get(num, 0) + 1\n",
    "        \n",
    "    return max(frequency_dict, key=frequency_dict.get)"
   ]
  },
  {
   "cell_type": "code",
   "execution_count": 84,
   "id": "9db0b519",
   "metadata": {},
   "outputs": [
    {
     "data": {
      "text/plain": [
       "3"
      ]
     },
     "execution_count": 84,
     "metadata": {},
     "output_type": "execute_result"
    }
   ],
   "source": [
    "most_frequent2([1,3,2,4,3,3,5,4,3,3,9,3])"
   ]
  },
  {
   "cell_type": "markdown",
   "id": "f708db1a",
   "metadata": {},
   "source": [
    "### Maximum of lists of lists"
   ]
  },
  {
   "cell_type": "code",
   "execution_count": 85,
   "id": "d3416400",
   "metadata": {},
   "outputs": [],
   "source": [
    "def max_of_sublists(lists):\n",
    "    max_nums = []\n",
    "    for lst in lists:\n",
    "        max_nums.append(max(lst))\n",
    "    return max_nums"
   ]
  },
  {
   "cell_type": "code",
   "execution_count": 86,
   "id": "00199018",
   "metadata": {},
   "outputs": [
    {
     "data": {
      "text/plain": [
       "[7, 6, 9]"
      ]
     },
     "execution_count": 86,
     "metadata": {},
     "output_type": "execute_result"
    }
   ],
   "source": [
    "a = [[1,3,7], [2,4,6], [7,8,9]]\n",
    "max_of_sublists(a)"
   ]
  },
  {
   "cell_type": "markdown",
   "id": "d2f463bc",
   "metadata": {},
   "source": [
    "### Matrix transpose"
   ]
  },
  {
   "cell_type": "code",
   "execution_count": 87,
   "id": "e67a87ee",
   "metadata": {},
   "outputs": [],
   "source": [
    "def transpose(matrix):\n",
    "    return [[matrix[j][i] for j in range(len(matrix))] for i in range(len(matrix[0]))]"
   ]
  },
  {
   "cell_type": "code",
   "execution_count": 88,
   "id": "fe1cd496",
   "metadata": {},
   "outputs": [
    {
     "data": {
      "text/plain": [
       "[[1, 2, 7], [3, 4, 8], [7, 6, 9]]"
      ]
     },
     "execution_count": 88,
     "metadata": {},
     "output_type": "execute_result"
    }
   ],
   "source": [
    "a = [[1,3,7], [2,4,6], [7,8,9]]\n",
    "transpose(a)"
   ]
  },
  {
   "cell_type": "code",
   "execution_count": null,
   "id": "2d86bed5",
   "metadata": {},
   "outputs": [],
   "source": []
  }
 ],
 "metadata": {
  "kernelspec": {
   "display_name": "Python 3 (ipykernel)",
   "language": "python",
   "name": "python3"
  },
  "language_info": {
   "codemirror_mode": {
    "name": "ipython",
    "version": 3
   },
   "file_extension": ".py",
   "mimetype": "text/x-python",
   "name": "python",
   "nbconvert_exporter": "python",
   "pygments_lexer": "ipython3",
   "version": "3.9.12"
  }
 },
 "nbformat": 4,
 "nbformat_minor": 5
}
