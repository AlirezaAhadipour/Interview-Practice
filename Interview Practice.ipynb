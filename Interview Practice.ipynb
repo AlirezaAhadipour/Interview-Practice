{
 "cells": [
  {
   "cell_type": "code",
   "execution_count": 1,
   "id": "27a2122b",
   "metadata": {},
   "outputs": [],
   "source": [
    "import numpy as np"
   ]
  },
  {
   "cell_type": "markdown",
   "id": "43dbeaa2",
   "metadata": {},
   "source": [
    "### Is Unique: \n"
   ]
  },
  {
   "cell_type": "code",
   "execution_count": 2,
   "id": "3dfc7840",
   "metadata": {},
   "outputs": [],
   "source": [
    "def uniquee(x):\n",
    "    \n",
    "    x = x.lower()\n",
    "    \n",
    "    chars = []\n",
    "    \n",
    "    for character in x:\n",
    "        if character in chars:\n",
    "            return False\n",
    "        else:\n",
    "            chars.append(character)\n",
    "            \n",
    "    return True"
   ]
  },
  {
   "cell_type": "code",
   "execution_count": 3,
   "id": "2bdef710",
   "metadata": {},
   "outputs": [
    {
     "name": "stdout",
     "output_type": "stream",
     "text": [
      "False\n"
     ]
    }
   ],
   "source": [
    "x = \"Alexa\"\n",
    "print(uniquee(x))"
   ]
  },
  {
   "cell_type": "markdown",
   "id": "3219d8d4",
   "metadata": {},
   "source": [
    "### Check Permutation: \n"
   ]
  },
  {
   "cell_type": "code",
   "execution_count": 4,
   "id": "03aa9f7a",
   "metadata": {},
   "outputs": [],
   "source": [
    "def permutationn(str1, str2):\n",
    "    if len(str1) != len(str2):\n",
    "        return False\n",
    "    else:\n",
    "        s1, s2 = sorted(str1), sorted(str2)\n",
    "        for i in range(len(str1)):\n",
    "            if s1[i] != s2[i]:\n",
    "                return False\n",
    "        return True"
   ]
  },
  {
   "cell_type": "code",
   "execution_count": 5,
   "id": "c08da6f4",
   "metadata": {},
   "outputs": [
    {
     "data": {
      "text/plain": [
       "True"
      ]
     },
     "execution_count": 5,
     "metadata": {},
     "output_type": "execute_result"
    }
   ],
   "source": [
    "permutationn('asd', 'sda')"
   ]
  },
  {
   "cell_type": "markdown",
   "id": "93fccd6f",
   "metadata": {},
   "source": [
    "### URLify: \n"
   ]
  },
  {
   "cell_type": "code",
   "execution_count": 6,
   "id": "2d6641a3",
   "metadata": {},
   "outputs": [],
   "source": [
    "def urlify(string):\n",
    "    output = ''\n",
    "    for char in string:\n",
    "        if char == ' ':\n",
    "            char = '%20'\n",
    "            output += char\n",
    "        else:\n",
    "            output += char\n",
    "    return output"
   ]
  },
  {
   "cell_type": "code",
   "execution_count": 7,
   "id": "b492a6c0",
   "metadata": {},
   "outputs": [
    {
     "data": {
      "text/plain": [
       "'zx%20c'"
      ]
     },
     "execution_count": 7,
     "metadata": {},
     "output_type": "execute_result"
    }
   ],
   "source": [
    "urlify('zx c')"
   ]
  },
  {
   "cell_type": "code",
   "execution_count": 8,
   "id": "88431200",
   "metadata": {},
   "outputs": [],
   "source": [
    "def urlify2(string):\n",
    "    return string.replace(' ', '%20')"
   ]
  },
  {
   "cell_type": "code",
   "execution_count": 9,
   "id": "7c58945e",
   "metadata": {},
   "outputs": [
    {
     "data": {
      "text/plain": [
       "'zx%20c'"
      ]
     },
     "execution_count": 9,
     "metadata": {},
     "output_type": "execute_result"
    }
   ],
   "source": [
    "urlify2('zx c')"
   ]
  },
  {
   "cell_type": "markdown",
   "id": "0ad8883d",
   "metadata": {},
   "source": [
    "### One Away: \n",
    "There are three types of edits that can be performed on strings: insert a character, remove a character, or replace a character. Given two strings, write a function to check if they are one edit (or zero edits) away.\n",
    "\n",
    "EXAMPLE\n",
    "pale, pie -> true\n",
    "pales, pale -> true \n",
    "pale, bale -> true \n",
    "pale, bake -> false"
   ]
  },
  {
   "cell_type": "code",
   "execution_count": 10,
   "id": "8a37b078",
   "metadata": {},
   "outputs": [],
   "source": [
    "def one_away(str1, str2):\n",
    "    if abs(len(str1) - len(str2)) > 1:\n",
    "        return False\n",
    "    elif len(str1) == len(str2):\n",
    "        return char_replaced(str1, str2)\n",
    "    elif len(str1) > len(str2):\n",
    "        return char_removed(str1, str2)\n",
    "    elif len(str1) < len(str2):\n",
    "        return char_insert(str1, str2)        \n",
    "        \n",
    "        \n",
    "def char_replaced(str1, str2):\n",
    "    counter = 0\n",
    "    for i in range(len(str1)):\n",
    "        if str1[i] != str2[i]:\n",
    "            counter += 1\n",
    "    if counter <= 1:\n",
    "        return True\n",
    "    else:\n",
    "        return False\n",
    "\n",
    "    \n",
    "def char_removed(str1, str2):\n",
    "    i = 0\n",
    "    j = 0\n",
    "    if str1[i] == str2[j]:\n",
    "        i = i+1\n",
    "        j = j+1\n",
    "    elif str1[i] != str2[j]:\n",
    "        i += 1\n",
    "        if str1[i] == str2[j]:\n",
    "            i +=1\n",
    "            j +=1\n",
    "        else:\n",
    "            return False\n",
    "    return True\n",
    "\n",
    "    \n",
    "def char_insert(str1, str2):\n",
    "    i = 0\n",
    "    j = 0\n",
    "    if str2[i] == str1[j]:\n",
    "        i = i+1\n",
    "        j = j+1\n",
    "    elif str2[i] != str1[j]:\n",
    "        i += 1\n",
    "        if str2[i] == str1[j]:\n",
    "            i +=1\n",
    "            j +=1\n",
    "        else:\n",
    "            return False\n",
    "    return True"
   ]
  },
  {
   "cell_type": "code",
   "execution_count": 11,
   "id": "65f36774",
   "metadata": {},
   "outputs": [
    {
     "data": {
      "text/plain": [
       "True"
      ]
     },
     "execution_count": 11,
     "metadata": {},
     "output_type": "execute_result"
    }
   ],
   "source": [
    "one_away('alexa', 'alex')"
   ]
  },
  {
   "cell_type": "markdown",
   "id": "a4785479",
   "metadata": {},
   "source": [
    "### String Compression: \n"
   ]
  },
  {
   "cell_type": "code",
   "execution_count": 12,
   "id": "68ef0b50",
   "metadata": {},
   "outputs": [],
   "source": [
    "def str_comp(strng):\n",
    "    strng = strng.lower()\n",
    "    output = strng[0]\n",
    "    counter = 0\n",
    "    for i in range(len(strng)-1):\n",
    "        if strng[i+1] == strng[i]:\n",
    "            i += 1\n",
    "            counter += 1\n",
    "        else:\n",
    "            output = output + str(counter+1)\n",
    "            counter = 0\n",
    "            output = output + strng[i+1]\n",
    "            \n",
    "    if len(output) <= len(strng):\n",
    "        return output\n",
    "    else:\n",
    "        return strng"
   ]
  },
  {
   "cell_type": "code",
   "execution_count": 13,
   "id": "d68930f2",
   "metadata": {},
   "outputs": [
    {
     "data": {
      "text/plain": [
       "'a3l1e1x'"
      ]
     },
     "execution_count": 13,
     "metadata": {},
     "output_type": "execute_result"
    }
   ],
   "source": [
    "str_comp('aaalexxxxx')"
   ]
  },
  {
   "cell_type": "code",
   "execution_count": 14,
   "id": "fbe1aa93",
   "metadata": {},
   "outputs": [],
   "source": [
    "def str_comp2(s):\n",
    "    compressed = ''\n",
    "    counter = 0\n",
    "    memory = s[0]\n",
    "    for char in s:\n",
    "        if char == memory:\n",
    "            counter += 1\n",
    "            \n",
    "        else:\n",
    "            compressed += memory + str(counter)\n",
    "            memory = char\n",
    "            counter = 1\n",
    "    compressed += char + str(counter)\n",
    "    return compressed"
   ]
  },
  {
   "cell_type": "code",
   "execution_count": 15,
   "id": "537f9b11",
   "metadata": {},
   "outputs": [
    {
     "data": {
      "text/plain": [
       "'a3l1e1x5'"
      ]
     },
     "execution_count": 15,
     "metadata": {},
     "output_type": "execute_result"
    }
   ],
   "source": [
    "str_comp2('aaalexxxxx')"
   ]
  },
  {
   "cell_type": "code",
   "execution_count": 16,
   "id": "c81134d2",
   "metadata": {},
   "outputs": [],
   "source": [
    "def compress_string(string):\n",
    "    compressed = []\n",
    "    counter = 0\n",
    "\n",
    "    for i in range(len(string)):  \n",
    "        if i != 0 and string[i] != string[i - 1]:\n",
    "            compressed.append(string[i - 1] + str(counter))\n",
    "            counter = 0\n",
    "        counter += 1\n",
    "\n",
    "    # add last repeated character\n",
    "    if counter:\n",
    "        compressed.append(string[-1] + str(counter))\n",
    "\n",
    "    # returns original string if compressed string isn't smaller\n",
    "    return min(string, \"\".join(compressed), key=len)"
   ]
  },
  {
   "cell_type": "code",
   "execution_count": 17,
   "id": "35e40807",
   "metadata": {},
   "outputs": [
    {
     "data": {
      "text/plain": [
       "'a3l1e1x7'"
      ]
     },
     "execution_count": 17,
     "metadata": {},
     "output_type": "execute_result"
    }
   ],
   "source": [
    "compress_string('aaalexxxxxxx')"
   ]
  },
  {
   "cell_type": "markdown",
   "id": "67a16b29",
   "metadata": {},
   "source": [
    "### String Rotation: \n"
   ]
  },
  {
   "cell_type": "code",
   "execution_count": 18,
   "id": "4b65d827",
   "metadata": {},
   "outputs": [],
   "source": [
    "def str_rot(s1, s2):\n",
    "    if len(s1) != len(s2):\n",
    "        return False\n",
    "    elif s2 in s1*2:\n",
    "        return True\n",
    "    else:\n",
    "        return False "
   ]
  },
  {
   "cell_type": "code",
   "execution_count": 19,
   "id": "81aca940",
   "metadata": {},
   "outputs": [
    {
     "data": {
      "text/plain": [
       "True"
      ]
     },
     "execution_count": 19,
     "metadata": {},
     "output_type": "execute_result"
    }
   ],
   "source": [
    "str_rot('zxcvbnm', 'cvbnmzx')"
   ]
  },
  {
   "cell_type": "markdown",
   "id": "8494055b",
   "metadata": {},
   "source": [
    "### FizzBuzz\n"
   ]
  },
  {
   "cell_type": "code",
   "execution_count": 20,
   "id": "24ed3736",
   "metadata": {},
   "outputs": [],
   "source": [
    "def fizzbuzz(n):\n",
    "    if n%15 == 0:\n",
    "        print(\"FizzBuzz\")\n",
    "    elif n%3 == 0:\n",
    "        print(\"Fizz\")\n",
    "    elif n%5 == 0:\n",
    "        print(\"Buzz\")\n",
    "    else:\n",
    "        return n"
   ]
  },
  {
   "cell_type": "code",
   "execution_count": 21,
   "id": "a2d4f44b",
   "metadata": {},
   "outputs": [
    {
     "name": "stdout",
     "output_type": "stream",
     "text": [
      "Fizz\n"
     ]
    }
   ],
   "source": [
    "fizzbuzz(-3)"
   ]
  },
  {
   "cell_type": "code",
   "execution_count": 22,
   "id": "d713ff4c",
   "metadata": {},
   "outputs": [],
   "source": [
    "def fizz():\n",
    "    for i in range(1,51):\n",
    "        if i % 15 == 0:\n",
    "            print('FizzBuzz')\n",
    "        elif i % 3 == 0:\n",
    "            print('Fizz')\n",
    "        elif i % 5 == 0:\n",
    "            print('Buzz')\n",
    "        print(i)\n",
    "        "
   ]
  },
  {
   "cell_type": "code",
   "execution_count": 23,
   "id": "22127d2b",
   "metadata": {},
   "outputs": [
    {
     "name": "stdout",
     "output_type": "stream",
     "text": [
      "1\n",
      "2\n",
      "Fizz\n",
      "3\n",
      "4\n",
      "Buzz\n",
      "5\n",
      "Fizz\n",
      "6\n",
      "7\n",
      "8\n",
      "Fizz\n",
      "9\n",
      "Buzz\n",
      "10\n",
      "11\n",
      "Fizz\n",
      "12\n",
      "13\n",
      "14\n",
      "FizzBuzz\n",
      "15\n",
      "16\n",
      "17\n",
      "Fizz\n",
      "18\n",
      "19\n",
      "Buzz\n",
      "20\n",
      "Fizz\n",
      "21\n",
      "22\n",
      "23\n",
      "Fizz\n",
      "24\n",
      "Buzz\n",
      "25\n",
      "26\n",
      "Fizz\n",
      "27\n",
      "28\n",
      "29\n",
      "FizzBuzz\n",
      "30\n",
      "31\n",
      "32\n",
      "Fizz\n",
      "33\n",
      "34\n",
      "Buzz\n",
      "35\n",
      "Fizz\n",
      "36\n",
      "37\n",
      "38\n",
      "Fizz\n",
      "39\n",
      "Buzz\n",
      "40\n",
      "41\n",
      "Fizz\n",
      "42\n",
      "43\n",
      "44\n",
      "FizzBuzz\n",
      "45\n",
      "46\n",
      "47\n",
      "Fizz\n",
      "48\n",
      "49\n",
      "Buzz\n",
      "50\n"
     ]
    }
   ],
   "source": [
    "fizz()"
   ]
  },
  {
   "cell_type": "markdown",
   "id": "e03327a4",
   "metadata": {},
   "source": [
    "### Reverse an Integer\n"
   ]
  },
  {
   "cell_type": "code",
   "execution_count": 24,
   "id": "1cd02bc3",
   "metadata": {},
   "outputs": [],
   "source": [
    "def rev(n):\n",
    "    if n not in range(-2**31, 2**31):\n",
    "        return 0\n",
    "    if n < 0:\n",
    "        sign = -1\n",
    "    else:\n",
    "        sign = 1\n",
    "    n = str(abs(n))\n",
    "    rev = n[::-1]\n",
    "    return sign * int(rev)"
   ]
  },
  {
   "cell_type": "code",
   "execution_count": 25,
   "id": "02da94b8",
   "metadata": {},
   "outputs": [
    {
     "data": {
      "text/plain": [
       "-3201"
      ]
     },
     "execution_count": 25,
     "metadata": {},
     "output_type": "execute_result"
    }
   ],
   "source": [
    "rev(-10230)"
   ]
  },
  {
   "cell_type": "code",
   "execution_count": 26,
   "id": "de6d25f0",
   "metadata": {},
   "outputs": [],
   "source": [
    "def rev2(n):\n",
    "    if n not in range(-2**31, 2**31):\n",
    "        return 0\n",
    "    \n",
    "    # Getting rid of the sign\n",
    "    if n < 0:\n",
    "        sign = -1\n",
    "    else:\n",
    "        sign = 1\n",
    "    n = abs(n)\n",
    "    \n",
    "    # Removing tailing 0s\n",
    "    n_stripped = int(str(n).rstrip('0'))\n",
    "    \n",
    "    # Reversing\n",
    "    n_reversed = 0\n",
    "    \n",
    "    while n_stripped > 0:\n",
    "        remainder = n_stripped % 10\n",
    "        n_reversed = n_reversed*10 + remainder\n",
    "        n_stripped = n_stripped // 10\n",
    "        \n",
    "    return sign * n_reversed"
   ]
  },
  {
   "cell_type": "code",
   "execution_count": 27,
   "id": "6b43b950",
   "metadata": {},
   "outputs": [
    {
     "data": {
      "text/plain": [
       "-3201"
      ]
     },
     "execution_count": 27,
     "metadata": {},
     "output_type": "execute_result"
    }
   ],
   "source": [
    "rev2(-10230)"
   ]
  },
  {
   "cell_type": "markdown",
   "id": "44fb6c7c",
   "metadata": {},
   "source": [
    "### Unique Char\n"
   ]
  },
  {
   "cell_type": "code",
   "execution_count": 28,
   "id": "deb36a6c",
   "metadata": {},
   "outputs": [],
   "source": [
    "def unique_char(s):\n",
    "    # lower case\n",
    "    s = s.lower()\n",
    "    \n",
    "    #count the repetition\n",
    "    counts = {}\n",
    "    for char in s:\n",
    "        if char not in counts:\n",
    "            counts[char] = 1\n",
    "        else:\n",
    "            counts[char] += 1\n",
    "            \n",
    "    for i in range(len(s)):\n",
    "        if counts[s[i]] == 1:\n",
    "            return i\n",
    "    return -1"
   ]
  },
  {
   "cell_type": "code",
   "execution_count": 29,
   "id": "8f03207e",
   "metadata": {},
   "outputs": [
    {
     "data": {
      "text/plain": [
       "-1"
      ]
     },
     "execution_count": 29,
     "metadata": {},
     "output_type": "execute_result"
    }
   ],
   "source": [
    "unique_char('zzxxccvvbb')"
   ]
  },
  {
   "cell_type": "markdown",
   "id": "e1a14274",
   "metadata": {},
   "source": [
    "### Defanging\n"
   ]
  },
  {
   "cell_type": "code",
   "execution_count": 30,
   "id": "4a7282fe",
   "metadata": {},
   "outputs": [],
   "source": [
    "def defanging(s):\n",
    "    defanged = ''\n",
    "    for char in s:\n",
    "        if char == '.':\n",
    "            defanged +=  \"[.]\"\n",
    "        else:\n",
    "            defanged += char\n",
    "    return defanged"
   ]
  },
  {
   "cell_type": "code",
   "execution_count": 31,
   "id": "4ce25a88",
   "metadata": {},
   "outputs": [
    {
     "data": {
      "text/plain": [
       "'127[.]0[.]0[.]1'"
      ]
     },
     "execution_count": 31,
     "metadata": {},
     "output_type": "execute_result"
    }
   ],
   "source": [
    "defanging('127.0.0.1')"
   ]
  },
  {
   "cell_type": "code",
   "execution_count": 32,
   "id": "c8808792",
   "metadata": {},
   "outputs": [],
   "source": [
    "def defanging2(s):\n",
    "    splited = s.split('.')\n",
    "    return '[.]'.join(splited)"
   ]
  },
  {
   "cell_type": "code",
   "execution_count": 33,
   "id": "3e379e28",
   "metadata": {},
   "outputs": [
    {
     "data": {
      "text/plain": [
       "'127[.]0[.]0[.]1'"
      ]
     },
     "execution_count": 33,
     "metadata": {},
     "output_type": "execute_result"
    }
   ],
   "source": [
    "defanging2('127.0.0.1')"
   ]
  },
  {
   "cell_type": "markdown",
   "id": "c8135ae9",
   "metadata": {},
   "source": [
    "### Anagram\n"
   ]
  },
  {
   "cell_type": "code",
   "execution_count": 34,
   "id": "4039c7c7",
   "metadata": {},
   "outputs": [],
   "source": [
    "def anagram(s1, s2):\n",
    "    if len(s1) != len(s2):\n",
    "        return False\n",
    "    s1, s2 = sorted(s1), sorted(s2)\n",
    "    for i in range(len(s1)):\n",
    "        if s1[i] != s2[i]:\n",
    "            return False\n",
    "    return True"
   ]
  },
  {
   "cell_type": "code",
   "execution_count": 35,
   "id": "5ba9bf0c",
   "metadata": {},
   "outputs": [
    {
     "data": {
      "text/plain": [
       "True"
      ]
     },
     "execution_count": 35,
     "metadata": {},
     "output_type": "execute_result"
    }
   ],
   "source": [
    "anagram('zxcvbnm', 'mnbvcxz')"
   ]
  },
  {
   "cell_type": "code",
   "execution_count": 36,
   "id": "f7f3d7ad",
   "metadata": {},
   "outputs": [
    {
     "data": {
      "text/plain": [
       "True"
      ]
     },
     "execution_count": 36,
     "metadata": {},
     "output_type": "execute_result"
    }
   ],
   "source": [
    "anagram('zxcvvbnm', 'vmnbvcxz')"
   ]
  },
  {
   "cell_type": "markdown",
   "id": "3e3622a6",
   "metadata": {},
   "source": [
    "### Palindrome\n"
   ]
  },
  {
   "cell_type": "code",
   "execution_count": 37,
   "id": "495047e1",
   "metadata": {},
   "outputs": [],
   "source": [
    "def palindrome(s):\n",
    "    s = s.lower()\n",
    "    for i in range(len(s)):\n",
    "        if s[i] != s[len(s)-i-1]:\n",
    "            return False\n",
    "    return True"
   ]
  },
  {
   "cell_type": "code",
   "execution_count": 38,
   "id": "04a5dbb3",
   "metadata": {},
   "outputs": [
    {
     "data": {
      "text/plain": [
       "True"
      ]
     },
     "execution_count": 38,
     "metadata": {},
     "output_type": "execute_result"
    }
   ],
   "source": [
    "palindrome('Bob')"
   ]
  },
  {
   "cell_type": "markdown",
   "id": "16880b33",
   "metadata": {},
   "source": [
    "### Factorial\n",
    "n! = n*(n-1)*(n-2)*...*1"
   ]
  },
  {
   "cell_type": "code",
   "execution_count": 39,
   "id": "8e91f23e",
   "metadata": {},
   "outputs": [],
   "source": [
    "# use recursion\n",
    "def factorial_recursive(n):\n",
    "    if n == 0:\n",
    "        return 1\n",
    "    else:\n",
    "        return n * factorial_recursive(n-1)"
   ]
  },
  {
   "cell_type": "code",
   "execution_count": 40,
   "id": "73f92c7a",
   "metadata": {},
   "outputs": [],
   "source": [
    "# use dynamic programming\n",
    "def factorial_dynamic(n):\n",
    "    memo = np.ones(n+1)\n",
    "    \n",
    "    for i in range(1, n+1):\n",
    "        memo[i] = i * memo[i-1]\n",
    "        \n",
    "    return memo[n]"
   ]
  },
  {
   "cell_type": "code",
   "execution_count": 41,
   "id": "91d95a8a",
   "metadata": {},
   "outputs": [
    {
     "name": "stdout",
     "output_type": "stream",
     "text": [
      "120\n",
      "120.0\n"
     ]
    }
   ],
   "source": [
    "print(factorial_recursive(5))\n",
    "print(factorial_dynamic(5))"
   ]
  },
  {
   "cell_type": "markdown",
   "id": "ee29253b",
   "metadata": {},
   "source": [
    "### Fibonacci Sequence\n",
    "f(n) = f(n-1) + f(n-2)"
   ]
  },
  {
   "cell_type": "code",
   "execution_count": 42,
   "id": "81e3a130",
   "metadata": {},
   "outputs": [],
   "source": [
    "def fibonacci_recursive(n):\n",
    "    if n == 0 or n == 1:\n",
    "        return n\n",
    "    else:\n",
    "        return fibonacci_recursive(n-1) + fibonacci_recursive(n-2)"
   ]
  },
  {
   "cell_type": "code",
   "execution_count": 43,
   "id": "7baaa5ca",
   "metadata": {},
   "outputs": [],
   "source": [
    "def fibonacci_dynamic(n):\n",
    "    memo = np.zeros(n+1)\n",
    "    \n",
    "    memo[0] = 0\n",
    "    memo[1] = 1\n",
    "    \n",
    "    for i in range(2, n+1):\n",
    "        memo[i] = memo[i-1] + memo[i-2]\n",
    "    return memo[n]"
   ]
  },
  {
   "cell_type": "code",
   "execution_count": 44,
   "id": "e42174ac",
   "metadata": {},
   "outputs": [
    {
     "name": "stdout",
     "output_type": "stream",
     "text": [
      "5\n",
      "5.0\n"
     ]
    }
   ],
   "source": [
    "print(fibonacci_recursive(5))\n",
    "print(fibonacci_dynamic(5))"
   ]
  },
  {
   "cell_type": "markdown",
   "id": "7b074701",
   "metadata": {},
   "source": [
    "### Goal Parser"
   ]
  },
  {
   "cell_type": "code",
   "execution_count": 45,
   "id": "1dc84450",
   "metadata": {},
   "outputs": [],
   "source": [
    "def parser(command):\n",
    "    return command.replace('()', 'o').replace('(al)', 'al')"
   ]
  },
  {
   "cell_type": "code",
   "execution_count": 46,
   "id": "d91e4901",
   "metadata": {},
   "outputs": [
    {
     "data": {
      "text/plain": [
       "'Goal'"
      ]
     },
     "execution_count": 46,
     "metadata": {},
     "output_type": "execute_result"
    }
   ],
   "source": [
    "parser('G()(al)')"
   ]
  },
  {
   "cell_type": "code",
   "execution_count": 47,
   "id": "4e99fb35",
   "metadata": {},
   "outputs": [],
   "source": [
    "def parser2(command):\n",
    "    # Dic of accepted characters\n",
    "    dic = {'G': 'G', '()': 'o', '(al)': 'al'}\n",
    "    \n",
    "    # loop through the command\n",
    "    parsed = ''\n",
    "    temp = ''\n",
    "    for char in command:\n",
    "        temp += char\n",
    "        if temp in dic:\n",
    "            parsed += dic[temp]\n",
    "            temp = ''\n",
    "    return parsed"
   ]
  },
  {
   "cell_type": "code",
   "execution_count": 48,
   "id": "7eb99207",
   "metadata": {},
   "outputs": [
    {
     "data": {
      "text/plain": [
       "'Gooal'"
      ]
     },
     "execution_count": 48,
     "metadata": {},
     "output_type": "execute_result"
    }
   ],
   "source": [
    "parser2('G()()(al)')"
   ]
  },
  {
   "cell_type": "markdown",
   "id": "37e3c5a9",
   "metadata": {},
   "source": [
    "### Destination City\n"
   ]
  },
  {
   "cell_type": "code",
   "execution_count": 49,
   "id": "8a7399bb",
   "metadata": {},
   "outputs": [],
   "source": [
    "def destination(arr):\n",
    "    paths = np.array(arr)\n",
    "    path_dict = {}\n",
    "    for i in range(len(paths)):\n",
    "        path_dict[paths[i,:][0]] = paths[i,:][1]\n",
    "    for source in path_dict:\n",
    "        if path_dict[source] not in path_dict:\n",
    "            return path_dict[source]"
   ]
  },
  {
   "cell_type": "code",
   "execution_count": 50,
   "id": "b8717bb2",
   "metadata": {},
   "outputs": [
    {
     "data": {
      "text/plain": [
       "'Z'"
      ]
     },
     "execution_count": 50,
     "metadata": {},
     "output_type": "execute_result"
    }
   ],
   "source": [
    "destination([[\"B\", \"C\"], [\"D\", \"B\"], [\"C\", \"A\"], [\"A\", \"Z\"]])"
   ]
  },
  {
   "cell_type": "code",
   "execution_count": 51,
   "id": "5f1db7a0",
   "metadata": {},
   "outputs": [],
   "source": [
    "def dest2(paths):\n",
    "    path_dict = {}\n",
    "    for path in paths:\n",
    "        source, destination = path\n",
    "        path_dict[source] = destination\n",
    "    for source in path_dict:\n",
    "        if path_dict[source] not in path_dict:\n",
    "            return path_dict[source]"
   ]
  },
  {
   "cell_type": "code",
   "execution_count": 52,
   "id": "e5233543",
   "metadata": {},
   "outputs": [
    {
     "data": {
      "text/plain": [
       "'Z'"
      ]
     },
     "execution_count": 52,
     "metadata": {},
     "output_type": "execute_result"
    }
   ],
   "source": [
    "dest2([[\"B\", \"C\"], [\"D\", \"B\"], [\"C\", \"A\"], [\"A\", \"Z\"]])"
   ]
  },
  {
   "cell_type": "markdown",
   "id": "15abab37",
   "metadata": {},
   "source": [
    "### Smaller Numbers"
   ]
  },
  {
   "cell_type": "code",
   "execution_count": 53,
   "id": "5998658e",
   "metadata": {},
   "outputs": [],
   "source": [
    "def smaller(nums):\n",
    "    output = []\n",
    "    for num in nums:\n",
    "        counter = 0\n",
    "        for i in range(len(nums)):\n",
    "            if nums[i] < num:\n",
    "                counter += 1\n",
    "        output.append(counter)\n",
    "    return output"
   ]
  },
  {
   "cell_type": "code",
   "execution_count": 54,
   "id": "f7cdca03",
   "metadata": {},
   "outputs": [
    {
     "data": {
      "text/plain": [
       "[4, 0, 1, 1, 3]"
      ]
     },
     "execution_count": 54,
     "metadata": {},
     "output_type": "execute_result"
    }
   ],
   "source": [
    "smaller([8, 1, 2, 2,3])"
   ]
  },
  {
   "cell_type": "markdown",
   "id": "dacd23fe",
   "metadata": {},
   "source": [
    "### Binary Search"
   ]
  },
  {
   "cell_type": "code",
   "execution_count": 55,
   "id": "a3dd5d8e",
   "metadata": {},
   "outputs": [],
   "source": [
    "def bi_search(nums, target):\n",
    "    for i, num in enumerate(nums):\n",
    "        if target == num:\n",
    "            return i\n",
    "    return -1"
   ]
  },
  {
   "cell_type": "code",
   "execution_count": 56,
   "id": "1b58a461",
   "metadata": {},
   "outputs": [
    {
     "data": {
      "text/plain": [
       "4"
      ]
     },
     "execution_count": 56,
     "metadata": {},
     "output_type": "execute_result"
    }
   ],
   "source": [
    "bi_search([-1,0,3,5,9,12], 9)"
   ]
  },
  {
   "cell_type": "code",
   "execution_count": 57,
   "id": "9be736b4",
   "metadata": {},
   "outputs": [
    {
     "data": {
      "text/plain": [
       "-1"
      ]
     },
     "execution_count": 57,
     "metadata": {},
     "output_type": "execute_result"
    }
   ],
   "source": [
    "bi_search([-1,0,3,5,9, 12], 2)"
   ]
  },
  {
   "cell_type": "markdown",
   "id": "d692e17b",
   "metadata": {},
   "source": [
    "### Longest Palindrome"
   ]
  },
  {
   "cell_type": "code",
   "execution_count": 58,
   "id": "3d19065f",
   "metadata": {},
   "outputs": [],
   "source": [
    "def longest_pal_len(s):\n",
    "    occurance = {}\n",
    "    for char in s:\n",
    "        occurance[char] = occurance.get(char,0) + 1\n",
    "    #return occurance\n",
    "    length = 0\n",
    "    flag = 0\n",
    "    for item in occurance:\n",
    "        length += (occurance[item] // 2) * 2\n",
    "        if (occurance[item] % 2)==1:\n",
    "            flag = 1\n",
    "    if length == 0:\n",
    "        return 0\n",
    "    else:\n",
    "        return length + flag"
   ]
  },
  {
   "cell_type": "code",
   "execution_count": 59,
   "id": "c27f4382",
   "metadata": {},
   "outputs": [
    {
     "data": {
      "text/plain": [
       "7"
      ]
     },
     "execution_count": 59,
     "metadata": {},
     "output_type": "execute_result"
    }
   ],
   "source": [
    "longest_pal_len(\"abccccdd\")"
   ]
  },
  {
   "cell_type": "code",
   "execution_count": 60,
   "id": "29191229",
   "metadata": {},
   "outputs": [
    {
     "data": {
      "text/plain": [
       "0"
      ]
     },
     "execution_count": 60,
     "metadata": {},
     "output_type": "execute_result"
    }
   ],
   "source": [
    "longest_pal_len(\"Bb\")"
   ]
  },
  {
   "cell_type": "code",
   "execution_count": 61,
   "id": "359a2897",
   "metadata": {},
   "outputs": [],
   "source": [
    "def longest_pal(s):\n",
    "    # form a dictionary of repetition of each character\n",
    "    repetition_dict = {}\n",
    "    for char in s:\n",
    "        repetition_dict[char] = repetition_dict.get(char, 0) + 1\n",
    "    # add half of the repetiotion of each character to the begining and the other half to the end\n",
    "    pal_list = []\n",
    "    for key, value in repetition_dict.items():\n",
    "        if (value//2) != 0:\n",
    "            pal_list.insert(0, key*(value//2))\n",
    "            pal_list.append(key*(value//2))\n",
    "    \n",
    "    # if existed, insert a single character to the middle\n",
    "    for key, value in repetition_dict.items():\n",
    "        if value % 2 == 1:\n",
    "            pal_list.insert(len(pal_list)//2, key)\n",
    "            break\n",
    "    return ''.join(pal_list)"
   ]
  },
  {
   "cell_type": "code",
   "execution_count": 62,
   "id": "9fb721a9",
   "metadata": {},
   "outputs": [
    {
     "data": {
      "text/plain": [
       "'dccaccd'"
      ]
     },
     "execution_count": 62,
     "metadata": {},
     "output_type": "execute_result"
    }
   ],
   "source": [
    "longest_pal(\"abccccdd\")"
   ]
  },
  {
   "cell_type": "markdown",
   "id": "df1ffb27",
   "metadata": {},
   "source": [
    "### Max Number of Coins"
   ]
  },
  {
   "cell_type": "code",
   "execution_count": 63,
   "id": "80f29c83",
   "metadata": {},
   "outputs": [],
   "source": [
    "def max_coins(piles):\n",
    "    sorted_piles = sorted(piles, reverse=True)\n",
    "    num_iterations = len(piles) // 3\n",
    "    collected_coins = 0\n",
    "    for n in range(num_iterations):\n",
    "        collected_coins += sorted_piles[2*n+1]\n",
    "    return collected_coins"
   ]
  },
  {
   "cell_type": "code",
   "execution_count": 64,
   "id": "5218ea87",
   "metadata": {},
   "outputs": [
    {
     "data": {
      "text/plain": [
       "4"
      ]
     },
     "execution_count": 64,
     "metadata": {},
     "output_type": "execute_result"
    }
   ],
   "source": [
    "max_coins([2,4,5])"
   ]
  },
  {
   "cell_type": "code",
   "execution_count": 65,
   "id": "8450902d",
   "metadata": {},
   "outputs": [
    {
     "data": {
      "text/plain": [
       "9"
      ]
     },
     "execution_count": 65,
     "metadata": {},
     "output_type": "execute_result"
    }
   ],
   "source": [
    "max_coins([2,4,1,2,7,8])"
   ]
  },
  {
   "cell_type": "code",
   "execution_count": 66,
   "id": "aefdd4d3",
   "metadata": {},
   "outputs": [
    {
     "data": {
      "text/plain": [
       "18"
      ]
     },
     "execution_count": 66,
     "metadata": {},
     "output_type": "execute_result"
    }
   ],
   "source": [
    "max_coins([9,8,7,6,5,1,2,3,4])"
   ]
  },
  {
   "cell_type": "markdown",
   "id": "da20eb3d",
   "metadata": {},
   "source": [
    "### Second biggest"
   ]
  },
  {
   "cell_type": "code",
   "execution_count": 67,
   "id": "7d342f2c",
   "metadata": {},
   "outputs": [],
   "source": [
    "def second_largest(lst):\n",
    "    if len(lst) < 2:\n",
    "        print('None!')\n",
    "    else:\n",
    "        return(sorted(set(lst), reverse=True)[1])"
   ]
  },
  {
   "cell_type": "code",
   "execution_count": 68,
   "id": "fa4abb82",
   "metadata": {},
   "outputs": [
    {
     "data": {
      "text/plain": [
       "6"
      ]
     },
     "execution_count": 68,
     "metadata": {},
     "output_type": "execute_result"
    }
   ],
   "source": [
    "a = [4, 7, 7, 6]\n",
    "second_largest(a)"
   ]
  },
  {
   "cell_type": "code",
   "execution_count": 69,
   "id": "1e71de50",
   "metadata": {},
   "outputs": [],
   "source": [
    "def sec_largest(numbers):\n",
    "    # remove duplicates\n",
    "    unique_numbers = []\n",
    "    for number in numbers:\n",
    "        if number not in unique_numbers:\n",
    "            unique_numbers.append(number)\n",
    "    # sort the numbers\n",
    "    unique_numbers.sort()\n",
    "    return unique_numbers[-2]"
   ]
  },
  {
   "cell_type": "code",
   "execution_count": 70,
   "id": "ebcc2c39",
   "metadata": {},
   "outputs": [
    {
     "data": {
      "text/plain": [
       "6"
      ]
     },
     "execution_count": 70,
     "metadata": {},
     "output_type": "execute_result"
    }
   ],
   "source": [
    "sec_largest([3, 4, 1, 6, 7, 7])"
   ]
  },
  {
   "cell_type": "markdown",
   "id": "e0e91449",
   "metadata": {},
   "source": [
    "### Reverse vowels in an string"
   ]
  },
  {
   "cell_type": "code",
   "execution_count": 71,
   "id": "7812b21b",
   "metadata": {},
   "outputs": [],
   "source": [
    "def rev_vowel(string):\n",
    "    vowels = ['a', 'e', 'o', 'i', 'u']\n",
    "    vowel_chars = []\n",
    "    indx = []\n",
    "    for idx, char in enumerate(string):\n",
    "        if char.lower() in vowels:\n",
    "            vowel_chars.append(char.lower())\n",
    "            indx.append(idx)\n",
    "    rev_indx = indx[::-1]\n",
    "    vow_dict = {indx[i]: rev_indx[i] for i in range(len(indx))}\n",
    "    reversed_vowel = ''\n",
    "    for idx, char in enumerate(string):\n",
    "        if char not in vowels:\n",
    "            reversed_vowel = reversed_vowel + char\n",
    "        else:\n",
    "            reversed_vowel = reversed_vowel + string[vow_dict[idx]]\n",
    "    return reversed_vowel"
   ]
  },
  {
   "cell_type": "code",
   "execution_count": 72,
   "id": "6058cceb",
   "metadata": {},
   "outputs": [
    {
     "data": {
      "text/plain": [
       "'leotcede'"
      ]
     },
     "execution_count": 72,
     "metadata": {},
     "output_type": "execute_result"
    }
   ],
   "source": [
    "rev_vowel('leetcode')"
   ]
  },
  {
   "cell_type": "code",
   "execution_count": 73,
   "id": "8bc1181d",
   "metadata": {},
   "outputs": [],
   "source": [
    "def rev_vowel2(s):\n",
    "    s = s.lower()\n",
    "    vowels = ['a', 'e', 'i', 'o', 'u']\n",
    "    # find vowels in the string\n",
    "    vowel_chars = []\n",
    "    for char in s:\n",
    "        if char in vowels:\n",
    "            vowel_chars.append(char)\n",
    "        reversed_vowel = vowel_chars[::-1]   # reverse the order of vowels\n",
    "    \n",
    "    # iterate through the string and substitute vowels backward\n",
    "    locator = 0\n",
    "    output = ''\n",
    "    for char in s:\n",
    "        if char in vowels:\n",
    "            output += reversed_vowel[locator]\n",
    "            locator += 1\n",
    "        else:\n",
    "            output += char\n",
    "    return output"
   ]
  },
  {
   "cell_type": "code",
   "execution_count": 74,
   "id": "77c15ee4",
   "metadata": {},
   "outputs": [
    {
     "data": {
      "text/plain": [
       "'leotcede'"
      ]
     },
     "execution_count": 74,
     "metadata": {},
     "output_type": "execute_result"
    }
   ],
   "source": [
    "rev_vowel2('leetcode')"
   ]
  },
  {
   "cell_type": "markdown",
   "id": "4e61edc2",
   "metadata": {},
   "source": [
    "### Single Occurance"
   ]
  },
  {
   "cell_type": "code",
   "execution_count": 75,
   "id": "bf2dbc18",
   "metadata": {},
   "outputs": [],
   "source": [
    "def single(arry):\n",
    "    count_dict = {}\n",
    "    for item in arry:\n",
    "        count_dict[item] = count_dict.get(item, 0) + 1\n",
    "    # return count_dict\n",
    "    for key in count_dict:\n",
    "        if  count_dict[key]== 1:\n",
    "            return key"
   ]
  },
  {
   "cell_type": "code",
   "execution_count": 76,
   "id": "bf84104a",
   "metadata": {},
   "outputs": [
    {
     "data": {
      "text/plain": [
       "3"
      ]
     },
     "execution_count": 76,
     "metadata": {},
     "output_type": "execute_result"
    }
   ],
   "source": [
    "single([1, 2, 3, 2, 1])"
   ]
  },
  {
   "cell_type": "markdown",
   "id": "b6b4e290",
   "metadata": {},
   "source": [
    "### Remove duplicates"
   ]
  },
  {
   "cell_type": "code",
   "execution_count": 77,
   "id": "787ac631",
   "metadata": {},
   "outputs": [],
   "source": [
    "def remove_duplicates(strings):\n",
    "    #remove duplicates\n",
    "    new_list = []\n",
    "    for string in strings:\n",
    "        if string not in new_list:\n",
    "            new_list.append(string)\n",
    "    return new_list"
   ]
  },
  {
   "cell_type": "code",
   "execution_count": 78,
   "id": "31e853e8",
   "metadata": {},
   "outputs": [
    {
     "data": {
      "text/plain": [
       "['a', 's', 'd', 'x']"
      ]
     },
     "execution_count": 78,
     "metadata": {},
     "output_type": "execute_result"
    }
   ],
   "source": [
    "s = ['a', 's', 'd', 'a', 'd', 'x']\n",
    "remove_duplicates(s)"
   ]
  },
  {
   "cell_type": "markdown",
   "id": "53a776c3",
   "metadata": {},
   "source": [
    "### Switch key & value in a Dict"
   ]
  },
  {
   "cell_type": "code",
   "execution_count": 79,
   "id": "dce4835d",
   "metadata": {},
   "outputs": [],
   "source": [
    "def switch_dict(d):\n",
    "    new_d = {}\n",
    "    for key in d:\n",
    "        new_d[d[key]] = key\n",
    "    return new_d"
   ]
  },
  {
   "cell_type": "code",
   "execution_count": 80,
   "id": "63aad621",
   "metadata": {},
   "outputs": [
    {
     "data": {
      "text/plain": [
       "{'Ali': 'name', 'DS': 'job'}"
      ]
     },
     "execution_count": 80,
     "metadata": {},
     "output_type": "execute_result"
    }
   ],
   "source": [
    "d = {'name': 'Ali', 'job': 'DS'}\n",
    "switch_dict(d)"
   ]
  },
  {
   "cell_type": "code",
   "execution_count": 81,
   "id": "3e6aff95",
   "metadata": {},
   "outputs": [],
   "source": [
    "def switch_dict2(d):\n",
    "    return {value: key for key, value in d.items()}"
   ]
  },
  {
   "cell_type": "code",
   "execution_count": 82,
   "id": "59f74bee",
   "metadata": {},
   "outputs": [
    {
     "data": {
      "text/plain": [
       "{'Ali': 'name', 'DS': 'job'}"
      ]
     },
     "execution_count": 82,
     "metadata": {},
     "output_type": "execute_result"
    }
   ],
   "source": [
    "switch_dict2(d)"
   ]
  },
  {
   "cell_type": "markdown",
   "id": "0b17c63e",
   "metadata": {},
   "source": [
    "### Count occurance"
   ]
  },
  {
   "cell_type": "code",
   "execution_count": 83,
   "id": "1545cfa6",
   "metadata": {},
   "outputs": [],
   "source": [
    "def count_occurrences(numbers):\n",
    "    count_dict = {}\n",
    "    for num in numbers:\n",
    "        count_dict[num] = count_dict.get(num, 0) + 1\n",
    "    return count_dict"
   ]
  },
  {
   "cell_type": "code",
   "execution_count": 84,
   "id": "528c601d",
   "metadata": {},
   "outputs": [
    {
     "data": {
      "text/plain": [
       "{1: 1, 2: 3, 5: 1, 3: 2, 6: 1, 4: 1}"
      ]
     },
     "execution_count": 84,
     "metadata": {},
     "output_type": "execute_result"
    }
   ],
   "source": [
    "num = [1, 2, 2, 5, 3, 6, 4, 2, 3]\n",
    "count_occurrences(num)"
   ]
  },
  {
   "cell_type": "markdown",
   "id": "573b64ca",
   "metadata": {},
   "source": [
    "### Find median"
   ]
  },
  {
   "cell_type": "code",
   "execution_count": 85,
   "id": "8b2d99c3",
   "metadata": {},
   "outputs": [],
   "source": [
    "def find_median(numbers):\n",
    "    # find location of the median\n",
    "    length = len(numbers)\n",
    "    if length % 2 == 0:\n",
    "        loc = (length / 2) - 1\n",
    "    else:\n",
    "        loc = length // 2\n",
    "    #find the median\n",
    "    median = sorted(numbers)[loc]\n",
    "    return median"
   ]
  },
  {
   "cell_type": "code",
   "execution_count": 86,
   "id": "4fc6fd23",
   "metadata": {},
   "outputs": [
    {
     "data": {
      "text/plain": [
       "4"
      ]
     },
     "execution_count": 86,
     "metadata": {},
     "output_type": "execute_result"
    }
   ],
   "source": [
    "n = [1,3,4,5,4,6,7,3,2,5,9]\n",
    "find_median(n)"
   ]
  },
  {
   "cell_type": "markdown",
   "id": "1626edac",
   "metadata": {},
   "source": [
    "### Add up"
   ]
  },
  {
   "cell_type": "code",
   "execution_count": 87,
   "id": "9c619139",
   "metadata": {},
   "outputs": [],
   "source": [
    "def two_sum(numbers, target):\n",
    "    flag = 0\n",
    "    for num in numbers:\n",
    "        if (target - num) in numbers:\n",
    "            flag = 1\n",
    "            \n",
    "    if flag == 1:\n",
    "        return True\n",
    "    else:\n",
    "        return False"
   ]
  },
  {
   "cell_type": "code",
   "execution_count": 88,
   "id": "823b15a5",
   "metadata": {},
   "outputs": [
    {
     "data": {
      "text/plain": [
       "True"
      ]
     },
     "execution_count": 88,
     "metadata": {},
     "output_type": "execute_result"
    }
   ],
   "source": [
    "numbers = [1,3,4,7]\n",
    "target = 5\n",
    "two_sum(numbers, target)"
   ]
  },
  {
   "cell_type": "markdown",
   "id": "f1cef46b",
   "metadata": {},
   "source": [
    "### Most frequent"
   ]
  },
  {
   "cell_type": "code",
   "execution_count": 89,
   "id": "093b17db",
   "metadata": {},
   "outputs": [],
   "source": [
    "def most_frequent(numbers):\n",
    "    frequency_dict = {}\n",
    "    for num in numbers:\n",
    "        frequency_dict[num] = frequency_dict.get(num, 0) + 1\n",
    "        \n",
    "    inverse = [(value, key) for key, value in frequency_dict.items()]\n",
    "    return max(inverse)[1]"
   ]
  },
  {
   "cell_type": "code",
   "execution_count": 90,
   "id": "279f36da",
   "metadata": {},
   "outputs": [
    {
     "data": {
      "text/plain": [
       "3"
      ]
     },
     "execution_count": 90,
     "metadata": {},
     "output_type": "execute_result"
    }
   ],
   "source": [
    "most_frequent([1,3,2,4,3,3,5,4,3,3,9,3])"
   ]
  },
  {
   "cell_type": "code",
   "execution_count": 91,
   "id": "499e9ea7",
   "metadata": {},
   "outputs": [],
   "source": [
    "def most_frequent2(numbers):\n",
    "    frequency_dict = {}\n",
    "    for num in numbers:\n",
    "        frequency_dict[num] = frequency_dict.get(num, 0) + 1\n",
    "        \n",
    "    return max(frequency_dict, key=frequency_dict.get)"
   ]
  },
  {
   "cell_type": "code",
   "execution_count": 92,
   "id": "5a3f8857",
   "metadata": {},
   "outputs": [
    {
     "data": {
      "text/plain": [
       "3"
      ]
     },
     "execution_count": 92,
     "metadata": {},
     "output_type": "execute_result"
    }
   ],
   "source": [
    "most_frequent2([1,3,2,4,3,3,5,4,3,3,9,3])"
   ]
  },
  {
   "cell_type": "markdown",
   "id": "d805c90c",
   "metadata": {},
   "source": [
    "### Maximum of lists of lists"
   ]
  },
  {
   "cell_type": "code",
   "execution_count": 93,
   "id": "bc841f02",
   "metadata": {},
   "outputs": [],
   "source": [
    "def max_of_sublists(lists):\n",
    "    max_nums = []\n",
    "    for lst in lists:\n",
    "        max_nums.append(max(lst))\n",
    "    return max_nums"
   ]
  },
  {
   "cell_type": "code",
   "execution_count": 94,
   "id": "97f0d241",
   "metadata": {},
   "outputs": [
    {
     "data": {
      "text/plain": [
       "[7, 6, 9]"
      ]
     },
     "execution_count": 94,
     "metadata": {},
     "output_type": "execute_result"
    }
   ],
   "source": [
    "a = [[1,3,7], [2,4,6], [7,8,9]]\n",
    "max_of_sublists(a)"
   ]
  },
  {
   "cell_type": "markdown",
   "id": "2c085ffb",
   "metadata": {},
   "source": [
    "### Matrix transpose"
   ]
  },
  {
   "cell_type": "code",
   "execution_count": 95,
   "id": "d591f62e",
   "metadata": {},
   "outputs": [],
   "source": [
    "def transpose(matrix):\n",
    "    return [[matrix[j][i] for j in range(len(matrix))] for i in range(len(matrix[0]))]"
   ]
  },
  {
   "cell_type": "code",
   "execution_count": 96,
   "id": "a6820f9e",
   "metadata": {},
   "outputs": [
    {
     "data": {
      "text/plain": [
       "[[1, 2, 7], [3, 4, 8], [7, 6, 9]]"
      ]
     },
     "execution_count": 96,
     "metadata": {},
     "output_type": "execute_result"
    }
   ],
   "source": [
    "a = [[1,3,7], [2,4,6], [7,8,9]]\n",
    "transpose(a)"
   ]
  },
  {
   "cell_type": "code",
   "execution_count": null,
   "id": "3104061e",
   "metadata": {},
   "outputs": [],
   "source": []
  }
 ],
 "metadata": {
  "kernelspec": {
   "display_name": "Python 3 (ipykernel)",
   "language": "python",
   "name": "python3"
  },
  "language_info": {
   "codemirror_mode": {
    "name": "ipython",
    "version": 3
   },
   "file_extension": ".py",
   "mimetype": "text/x-python",
   "name": "python",
   "nbconvert_exporter": "python",
   "pygments_lexer": "ipython3",
   "version": "3.9.12"
  }
 },
 "nbformat": 4,
 "nbformat_minor": 5
}
